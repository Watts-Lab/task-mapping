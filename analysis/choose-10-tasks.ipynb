{
 "cells": [
  {
   "cell_type": "code",
   "execution_count": 17,
   "metadata": {},
   "outputs": [],
   "source": [
    "import numpy as np\n",
    "import pandas as pd\n",
    "from scipy.spatial import distance\n",
    "import matplotlib.pyplot as plt"
   ]
  },
  {
   "cell_type": "code",
   "execution_count": 2,
   "id": "991f3c10",
   "metadata": {},
   "outputs": [],
   "source": [
    "def greedy_maximin(data, remaining, selected,  n, metric=\"euclidean\"):\n",
    "    \"\"\"\n",
    "        data: pandas dataframe(rows=points, cols=dimensions)\n",
    "            points to choose from\n",
    "            \n",
    "        remaining: indexes of `data` that are candidates for the next point\n",
    "        \n",
    "        selected: indexes of `data` that have already been included\n",
    "        \n",
    "        n: number of additional points to include\n",
    "        \n",
    "        metric: \"euclidean\" \"cityblock\"\n",
    "            distance measures from scipy.spatial.distance\n",
    "    \"\"\"\n",
    "    distances = []\n",
    "    for _ in range(n):\n",
    "        dists = distance.cdist(data.loc[selected], data.loc[remaining], metric)\n",
    "        closest = dists.min(axis=0)  # distance between candidates and closest selection\n",
    "        distances.append(closest.max())\n",
    "        add = remaining[np.argmax(closest)]\n",
    "        selected += [add]\n",
    "        remaining.remove(add)\n",
    "\n",
    "    return selected, distances"
   ]
  },
  {
   "cell_type": "code",
   "execution_count": 3,
   "id": "ff8af181",
   "metadata": {},
   "outputs": [],
   "source": [
    "def within_set_distance(data, selected, metric=\"euclidean\"):\n",
    "    return distance.cdist(data.loc[selected],data.loc[selected], metric) "
   ]
  },
  {
   "cell_type": "code",
   "execution_count": 4,
   "id": "c524d45f",
   "metadata": {},
   "outputs": [],
   "source": [
    "task_map = pd.read_csv(\"https://raw.githubusercontent.com/Watts-Lab/task-mapping/master/task_map.csv\", index_col=\"task\")"
   ]
  },
  {
   "cell_type": "code",
   "execution_count": 5,
   "id": "891ba3cd",
   "metadata": {},
   "outputs": [],
   "source": [
    "# drop things that we can't play\n",
    "task_map.drop('Railroad Route Construction game (Impossible Version)', inplace = True)"
   ]
  },
  {
   "cell_type": "code",
   "execution_count": 6,
   "id": "8b7038a1",
   "metadata": {},
   "outputs": [
    {
     "data": {
      "text/plain": [
       "{'Categorization problem': 1.2666853861623764,\n",
       " 'Mastermind': 1.1359674317237467,\n",
       " 'Logic Problem': 1.138013480692106,\n",
       " 'Sudoku': 1.1815937548338622,\n",
       " 'Rank cities by population, rank words by familiarity': 1.245662832693769,\n",
       " 'Shopping plan': 1.2783177766403093,\n",
       " 'Iterative lemonade stand task': 1.2492651678687603,\n",
       " 'Reading the mind in the eyes': 1.245662832693769,\n",
       " 'Writing story': 1.327927353825807,\n",
       " 'Moral Reasoning (Disciplinary Action Case)': 1.327927353825807,\n",
       " 'Word construction from a subset of letters': 1.327927353825807,\n",
       " 'Carter Racing': 1.327927353825807,\n",
       " 'Guessing the correlation': 1.245662832693769,\n",
       " 'Wolf, goat and cabbage transfer': 1.327927353825807,\n",
       " 'Room assignment task': 1.230500442813333,\n",
       " 'Arithmetic problem 1': 1.2423124375329524,\n",
       " 'Space Fortress': 1.1950364528599255,\n",
       " 'Visual Oddball Target': 1.2852284292264256,\n",
       " 'The N light bulbs game': 1.294694757035991,\n",
       " 'Word completion given starting letter': 1.2956786507112639,\n",
       " 'Railroad Route Construction game': 1.327927353825807,\n",
       " 'Allocating resources to programs': 1.327927353825807,\n",
       " 'Game of Clue - Terrorist Attack': 1.2198489125167087,\n",
       " 'Word completion given part of word': 1.1645132406576677,\n",
       " 'NASA Moon survival': 1.1645132406576677,\n",
       " 'Image rating': 1.327927353825807,\n",
       " 'Estimating Factual Quantities': 1.257232415589099,\n",
       " 'Run a mini business': 1.327927353825807,\n",
       " 'Recall videos': 1.1950364528599255,\n",
       " 'Search for Oil Task': 1.135543993464277,\n",
       " 'To evacuate or not to evacuate': 1.327927353825807,\n",
       " 'Estimating geological metrics': 1.257232415589099,\n",
       " 'Euclidean traveling salesperson': 1.2942677546079149,\n",
       " 'Reproducing arts': 1.2783177766403093,\n",
       " 'Estimating social quantity': 1.3060238092911927,\n",
       " 'Hidden figures in a picture (Searching Task)': 1.2075852628803498,\n",
       " 'Estimating pages of a book': 1.327927353825807,\n",
       " 'Abstract grid task': 1.245662832693769,\n",
       " 'Unscramble words (anagrams)': 1.1645132406576677,\n",
       " 'Random dot motion': 1.2529149959502057,\n",
       " 'Target Search': 1.2630667110911196,\n",
       " 'Find the maximum': 1.327927353825807,\n",
       " 'Wildcam Gorongosa (Zooniverse)': 1.1950364528599255,\n",
       " 'Recall stories': 1.245662832693769,\n",
       " 'Recall association': 1.164801594467144,\n",
       " 'Letters-to-numbers problems (cryptography)': 1.1359674317237467,\n",
       " 'Architectural design task': 1.2239213961968607,\n",
       " 'Recall word lists': 1.1939345888777728,\n",
       " \"Wason's Selection Task\": 1.284292028730713,\n",
       " 'Summarize Discussion': 1.327927353825807,\n",
       " 'Divergent Association Task': 1.2783177766403093,\n",
       " 'Crisis mapping': 1.1904292469099444,\n",
       " '9 Dot Problem': 1.327927353825807,\n",
       " 'The Fish game': 1.3139958425111968,\n",
       " 'Advertisement writing': 1.327927353825807,\n",
       " 'Hidden figures in a picture (Recall Task)': 1.210069640195654,\n",
       " 'Computer maze': 1.1359674317237467,\n",
       " 'Splitting a deck of cards': 1.2570986954024692,\n",
       " 'Object based generalization for reasoning (Phyre)': 1.2529149959502057,\n",
       " 'Ravens Matrices': 1.278907664814581,\n",
       " 'Trivia Multiple Choice Quiz': 1.3158618729851734,\n",
       " 'Desert survival': 1.300548161662164,\n",
       " 'Putting food into categories': 1.2783177766403093,\n",
       " 'Wildcat Wells': 1.1950364528599255,\n",
       " 'Graph coloring task': 1.245662832693769,\n",
       " 'Husbands and wives transfer': 1.2836892002736935,\n",
       " 'Checkers': 1.327927353825807,\n",
       " 'Typing game': 1.327927353825807,\n",
       " 'Recall images': 1.192328748339638,\n",
       " 'Whac-A-Mole': 1.2783177766403093}"
      ]
     },
     "execution_count": 6,
     "metadata": {},
     "output_type": "execute_result"
    }
   ],
   "source": [
    "scores_dict = {}\n",
    "for task in task_map.index:\n",
    "    selected = [task]\n",
    "    remaining = list(task_map.index.difference(selected))\n",
    "    choices,scores = greedy_maximin(task_map, remaining, selected, n=10)\n",
    "    scores_dict[task] = scores[9]\n",
    "\n",
    "scores_dict"
   ]
  },
  {
   "cell_type": "code",
   "execution_count": 7,
   "id": "9dd8152b",
   "metadata": {},
   "outputs": [
    {
     "name": "stdout",
     "output_type": "stream",
     "text": [
      "[1.26014956 1.32792735]\n"
     ]
    }
   ],
   "source": [
    "print(np.quantile(list(scores_dict.values()), [0.5, 0.95]))"
   ]
  },
  {
   "cell_type": "code",
   "execution_count": 8,
   "id": "96f47764",
   "metadata": {},
   "outputs": [
    {
     "data": {
      "text/plain": [
       "'Writing story'"
      ]
     },
     "execution_count": 8,
     "metadata": {},
     "output_type": "execute_result"
    }
   ],
   "source": [
    "pd.Series(scores_dict).idxmax()"
   ]
  },
  {
   "cell_type": "code",
   "execution_count": 9,
   "id": "8be89d93",
   "metadata": {},
   "outputs": [
    {
     "data": {
      "text/plain": [
       "['Writing story',\n",
       " '9 Dot Problem',\n",
       " 'Word construction from a subset of letters',\n",
       " 'Image rating',\n",
       " 'Checkers',\n",
       " 'Run a mini business',\n",
       " 'Typing game',\n",
       " 'Whac-A-Mole',\n",
       " 'Divergent Association Task',\n",
       " 'Carter Racing',\n",
       " 'Object based generalization for reasoning (Phyre)']"
      ]
     },
     "execution_count": 9,
     "metadata": {},
     "output_type": "execute_result"
    }
   ],
   "source": [
    "selected = ['Writing story']\n",
    "remaining = list(task_map.index.difference(selected))\n",
    "choices,scores = greedy_maximin(task_map, remaining, selected, n=10)\n",
    "choices"
   ]
  },
  {
   "cell_type": "code",
   "execution_count": 10,
   "id": "978db34e",
   "metadata": {},
   "outputs": [
    {
     "data": {
      "text/plain": [
       "[3.033024588462129,\n",
       " 2.3611329688851113,\n",
       " 2.023028412417927,\n",
       " 1.7957277411343644,\n",
       " 1.6941734671205697,\n",
       " 1.651693174221916,\n",
       " 1.4104539514341472,\n",
       " 1.4049906884518972,\n",
       " 1.3675509868542826,\n",
       " 1.327927353825807]"
      ]
     },
     "execution_count": 10,
     "metadata": {},
     "output_type": "execute_result"
    }
   ],
   "source": [
    "# print the scores\n",
    "scores"
   ]
  },
  {
   "cell_type": "code",
   "execution_count": 11,
   "id": "cf11e0ce",
   "metadata": {},
   "outputs": [],
   "source": [
    "def get_min_dist_within_set(selected):\n",
    "    res = within_set_distance(task_map, selected)\n",
    "    res[res == 0] = 10000000 # get rid of the diagonal, which is obviously zero\n",
    "    return np.min(res)"
   ]
  },
  {
   "cell_type": "code",
   "execution_count": 12,
   "id": "e7adf88c",
   "metadata": {},
   "outputs": [
    {
     "data": {
      "text/plain": [
       "0.5287476560780826"
      ]
     },
     "execution_count": 12,
     "metadata": {},
     "output_type": "execute_result"
    }
   ],
   "source": [
    "selected = ['Euclidean traveling salesperson', 'Allocating resources to programs', '9 Dot Problem', 'Guessing the correlation', 'Abstract grid task', 'Advertisement writing', 'Whac-A-Mole', 'Putting food into categories', 'Room assignment task', 'Divergent Association Task', 'Recall association']\n",
    "get_min_dist_within_set(selected)"
   ]
  },
  {
   "cell_type": "code",
   "execution_count": 13,
   "id": "c961f3ae",
   "metadata": {},
   "outputs": [
    {
     "data": {
      "text/plain": [
       "1.327927353825807"
      ]
     },
     "execution_count": 13,
     "metadata": {},
     "output_type": "execute_result"
    }
   ],
   "source": [
    "get_min_dist_within_set(choices)"
   ]
  },
  {
   "cell_type": "code",
   "execution_count": 14,
   "id": "5e79e5d7",
   "metadata": {},
   "outputs": [
    {
     "name": "stdout",
     "output_type": "stream",
     "text": [
      "['Room assignment task', 'Summarize Discussion', 'Whac-A-Mole', '9 Dot Problem', 'Word construction from a subset of letters', 'Image rating', 'Putting food into categories', 'Typing game', 'Railroad Route Construction game', 'Run a mini business', 'Object based generalization for reasoning (Phyre)']\n"
     ]
    },
    {
     "data": {
      "text/plain": [
       "0.9814959426038877"
      ]
     },
     "execution_count": 14,
     "metadata": {},
     "output_type": "execute_result"
    }
   ],
   "source": [
    "# What happens if we started with room assignment as before?\n",
    "selected = ['Room assignment task']\n",
    "remaining = list(task_map.index.difference(selected))\n",
    "print(greedy_maximin(task_map, remaining, selected, n=10)[0])\n",
    "get_min_dist_within_set(greedy_maximin(task_map, remaining, selected, n=10)[0])"
   ]
  },
  {
   "cell_type": "markdown",
   "id": "d9fb8328",
   "metadata": {},
   "source": [
    "## Which tasks should we replace to improve our score?\n",
    "What if we start with our existing set, and greedily replace tasks with the one most likely to improve our score?"
   ]
  },
  {
   "cell_type": "code",
   "execution_count": 15,
   "id": "6d62276b",
   "metadata": {},
   "outputs": [],
   "source": [
    "original_tasks = ('Euclidean traveling salesperson', 'Allocating resources to programs', '9 Dot Problem', 'Guessing the correlation', 'Abstract grid task', 'Advertisement writing', 'Whac-A-Mole', 'Putting food into categories', 'Room assignment task', 'Divergent Association Task', 'Recall association')"
   ]
  },
  {
   "cell_type": "code",
   "execution_count": 16,
   "id": "10626619",
   "metadata": {},
   "outputs": [
    {
     "name": "stdout",
     "output_type": "stream",
     "text": [
      "Abstract grid task\n",
      "['Euclidean traveling salesperson', 'Allocating resources to programs', '9 Dot Problem', 'Guessing the correlation', 'Advertisement writing', 'Whac-A-Mole', 'Putting food into categories', 'Room assignment task', 'Divergent Association Task', 'Recall association', 'Railroad Route Construction game']\n",
      "0.5543510236127874\n",
      "Euclidean traveling salesperson\n",
      "['Allocating resources to programs', '9 Dot Problem', 'Guessing the correlation', 'Advertisement writing', 'Whac-A-Mole', 'Putting food into categories', 'Room assignment task', 'Divergent Association Task', 'Recall association', 'Railroad Route Construction game', 'Image rating']\n",
      "0.7844776085562485\n",
      "Guessing the correlation\n",
      "['Allocating resources to programs', '9 Dot Problem', 'Advertisement writing', 'Whac-A-Mole', 'Putting food into categories', 'Room assignment task', 'Divergent Association Task', 'Recall association', 'Railroad Route Construction game', 'Image rating', 'Run a mini business']\n",
      "1.0440234002255129\n",
      "Allocating resources to programs\n",
      "['9 Dot Problem', 'Advertisement writing', 'Whac-A-Mole', 'Putting food into categories', 'Room assignment task', 'Divergent Association Task', 'Recall association', 'Railroad Route Construction game', 'Image rating', 'Run a mini business', 'Word construction from a subset of letters']\n",
      "1.0529092090433432\n",
      "Putting food into categories\n",
      "['9 Dot Problem', 'Advertisement writing', 'Whac-A-Mole', 'Room assignment task', 'Divergent Association Task', 'Recall association', 'Railroad Route Construction game', 'Image rating', 'Run a mini business', 'Word construction from a subset of letters', 'Visual Oddball Target']\n",
      "1.0623856026313063\n",
      "Recall association\n",
      "['9 Dot Problem', 'Advertisement writing', 'Whac-A-Mole', 'Room assignment task', 'Divergent Association Task', 'Railroad Route Construction game', 'Image rating', 'Run a mini business', 'Word construction from a subset of letters', 'Visual Oddball Target', 'Typing game']\n",
      "1.1712001575138464\n",
      "Visual Oddball Target\n",
      "['9 Dot Problem', 'Advertisement writing', 'Whac-A-Mole', 'Room assignment task', 'Divergent Association Task', 'Railroad Route Construction game', 'Image rating', 'Run a mini business', 'Word construction from a subset of letters', 'Typing game', 'Object based generalization for reasoning (Phyre)']\n",
      "1.230500442813333\n",
      "Room assignment task\n",
      "['9 Dot Problem', 'Advertisement writing', 'Whac-A-Mole', 'Divergent Association Task', 'Railroad Route Construction game', 'Image rating', 'Run a mini business', 'Word construction from a subset of letters', 'Typing game', 'Object based generalization for reasoning (Phyre)', 'Carter Racing']\n",
      "1.327927353825807\n",
      "Typing game\n",
      "['9 Dot Problem', 'Advertisement writing', 'Whac-A-Mole', 'Divergent Association Task', 'Railroad Route Construction game', 'Image rating', 'Run a mini business', 'Word construction from a subset of letters', 'Object based generalization for reasoning (Phyre)', 'Carter Racing', 'Random dot motion']\n",
      "1.3430876858098812\n",
      "9 Dot Problem\n",
      "['Advertisement writing', 'Whac-A-Mole', 'Divergent Association Task', 'Railroad Route Construction game', 'Image rating', 'Run a mini business', 'Word construction from a subset of letters', 'Object based generalization for reasoning (Phyre)', 'Carter Racing', 'Random dot motion', '9 Dot Problem']\n",
      "1.3430876858098812\n",
      "Advertisement writing\n",
      "['Whac-A-Mole', 'Divergent Association Task', 'Railroad Route Construction game', 'Image rating', 'Run a mini business', 'Word construction from a subset of letters', 'Object based generalization for reasoning (Phyre)', 'Carter Racing', 'Random dot motion', '9 Dot Problem', 'Moral Reasoning (Disciplinary Action Case)']\n",
      "1.3430876858098812\n",
      "Whac-A-Mole\n",
      "['Divergent Association Task', 'Railroad Route Construction game', 'Image rating', 'Run a mini business', 'Word construction from a subset of letters', 'Object based generalization for reasoning (Phyre)', 'Carter Racing', 'Random dot motion', '9 Dot Problem', 'Moral Reasoning (Disciplinary Action Case)', 'Whac-A-Mole']\n",
      "1.3430876858098812\n",
      "Divergent Association Task\n",
      "['Railroad Route Construction game', 'Image rating', 'Run a mini business', 'Word construction from a subset of letters', 'Object based generalization for reasoning (Phyre)', 'Carter Racing', 'Random dot motion', '9 Dot Problem', 'Moral Reasoning (Disciplinary Action Case)', 'Whac-A-Mole', 'Putting food into categories']\n",
      "1.3430876858098812\n",
      "Railroad Route Construction game\n",
      "['Image rating', 'Run a mini business', 'Word construction from a subset of letters', 'Object based generalization for reasoning (Phyre)', 'Carter Racing', 'Random dot motion', '9 Dot Problem', 'Moral Reasoning (Disciplinary Action Case)', 'Whac-A-Mole', 'Putting food into categories', 'Railroad Route Construction game']\n",
      "1.3430876858098812\n",
      "Image rating\n",
      "['Run a mini business', 'Word construction from a subset of letters', 'Object based generalization for reasoning (Phyre)', 'Carter Racing', 'Random dot motion', '9 Dot Problem', 'Moral Reasoning (Disciplinary Action Case)', 'Whac-A-Mole', 'Putting food into categories', 'Railroad Route Construction game', 'Image rating']\n",
      "1.3430876858098812\n",
      "Run a mini business\n",
      "['Word construction from a subset of letters', 'Object based generalization for reasoning (Phyre)', 'Carter Racing', 'Random dot motion', '9 Dot Problem', 'Moral Reasoning (Disciplinary Action Case)', 'Whac-A-Mole', 'Putting food into categories', 'Railroad Route Construction game', 'Image rating', 'Run a mini business']\n",
      "1.3430876858098812\n",
      "Word construction from a subset of letters\n",
      "['Object based generalization for reasoning (Phyre)', 'Carter Racing', 'Random dot motion', '9 Dot Problem', 'Moral Reasoning (Disciplinary Action Case)', 'Whac-A-Mole', 'Putting food into categories', 'Railroad Route Construction game', 'Image rating', 'Run a mini business', 'Word construction from a subset of letters']\n",
      "1.3430876858098812\n",
      "Object based generalization for reasoning (Phyre)\n",
      "['Carter Racing', 'Random dot motion', '9 Dot Problem', 'Moral Reasoning (Disciplinary Action Case)', 'Whac-A-Mole', 'Putting food into categories', 'Railroad Route Construction game', 'Image rating', 'Run a mini business', 'Word construction from a subset of letters', 'Object based generalization for reasoning (Phyre)']\n",
      "1.3430876858098812\n",
      "Carter Racing\n",
      "['Random dot motion', '9 Dot Problem', 'Moral Reasoning (Disciplinary Action Case)', 'Whac-A-Mole', 'Putting food into categories', 'Railroad Route Construction game', 'Image rating', 'Run a mini business', 'Word construction from a subset of letters', 'Object based generalization for reasoning (Phyre)', 'Carter Racing']\n",
      "1.3430876858098812\n",
      "Random dot motion\n",
      "['9 Dot Problem', 'Moral Reasoning (Disciplinary Action Case)', 'Whac-A-Mole', 'Putting food into categories', 'Railroad Route Construction game', 'Image rating', 'Run a mini business', 'Word construction from a subset of letters', 'Object based generalization for reasoning (Phyre)', 'Carter Racing', 'Random dot motion']\n",
      "1.3430876858098812\n"
     ]
    }
   ],
   "source": [
    "# set the max number of replacements you're willing to make\n",
    "MAX_NUM_TASKS_TO_REPLACE = 20\n",
    "dists_per_iteration = []\n",
    "\n",
    "# start with existing set\n",
    "current_task_list = original_tasks\n",
    "\n",
    "for i in range(MAX_NUM_TASKS_TO_REPLACE):\n",
    "    # go through each one and try replacing it to find the most optimal replacement\n",
    "    optimal_replacements = {}\n",
    "\n",
    "    for task in current_task_list:\n",
    "        selected_minus_task = list(current_task_list)\n",
    "        selected_minus_task.remove(task)\n",
    "        remaining = list(task_map.index.difference(selected_minus_task))\n",
    "        new_set = greedy_maximin(task_map, remaining, selected_minus_task, n=1)[0] # get a replacement'\n",
    "        optimal_replacements[task] = get_min_dist_within_set(new_set)\n",
    "    \n",
    "    optimal_task_to_replace = pd.Series(optimal_replacements).idxmax()\n",
    "    print(optimal_task_to_replace)\n",
    "    \n",
    "    # now set the task to the optimally-replaced one\n",
    "    selected_minus_task = list(current_task_list)\n",
    "    selected_minus_task.remove(optimal_task_to_replace)\n",
    "    remaining = list(task_map.index.difference(selected_minus_task))\n",
    "    current_task_list = (greedy_maximin(task_map, remaining, selected_minus_task, n=1)[0]) # get a replacement'\n",
    "    print(current_task_list)\n",
    "    print(get_min_dist_within_set(list(current_task_list)))\n",
    "    dists_per_iteration.append(get_min_dist_within_set(list(current_task_list)))"
   ]
  },
  {
   "cell_type": "code",
   "execution_count": 25,
   "id": "64587533",
   "metadata": {},
   "outputs": [
    {
     "data": {
      "image/png": "[encoded data removed]",
      "text/plain": [
       "<Figure size 432x288 with 1 Axes>"
      ]
     },
     "metadata": {
      "needs_background": "light"
     },
     "output_type": "display_data"
    }
   ],
   "source": [
    "plt.plot(range(1,len(dists_per_iteration)+1),dists_per_iteration)\n",
    "plt.xticks(np.arange(1, 20, 1))\n",
    "plt.xlabel('Number of Replacements (Iterations)', fontsize=8)\n",
    "plt.ylabel('Within-Set Distance', fontsize=8)\n",
    "plt.show()"
   ]
  }
 ],
 "metadata": {
  "interpreter": {
   "hash": "7812ea015bdcee6f23a998adcdd2ef97c151c0c241b7b7070987d9313e41299d"
  },
  "kernelspec": {
   "display_name": "Python 3.9.5 64-bit",
   "language": "python",
   "name": "python3"
  },
  "language_info": {
   "codemirror_mode": {
    "name": "ipython",
    "version": 3
   },
   "file_extension": ".py",
   "mimetype": "text/x-python",
   "name": "python",
   "nbconvert_exporter": "python",
   "pygments_lexer": "ipython3",
   "version": "3.9.5"
  }
 },
 "nbformat": 4,
 "nbformat_minor": 5
}
