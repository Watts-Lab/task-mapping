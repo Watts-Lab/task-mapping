{
 "cells": [
  {
   "cell_type": "code",
   "execution_count": 1,
   "metadata": {},
   "outputs": [],
   "source": [
    "import numpy as np\n",
    "import pandas as pd\n",
    "from scipy.spatial import distance\n",
    "import matplotlib.pyplot as plt\n",
    "from apricot import FacilityLocationSelection"
   ]
  },
  {
   "cell_type": "code",
   "execution_count": 2,
   "id": "991f3c10",
   "metadata": {},
   "outputs": [],
   "source": [
    "def greedy_maximin(data, remaining, selected,  n, metric=\"euclidean\"):\n",
    "    \"\"\"\n",
    "        data: pandas dataframe(rows=points, cols=dimensions)\n",
    "            points to choose from\n",
    "            \n",
    "        remaining: indexes of `data` that are candidates for the next point\n",
    "        \n",
    "        selected: indexes of `data` that have already been included\n",
    "        \n",
    "        n: number of additional points to include\n",
    "        \n",
    "        metric: \"euclidean\" \"cityblock\"\n",
    "            distance measures from scipy.spatial.distance\n",
    "    \"\"\"\n",
    "    distances = []\n",
    "    for _ in range(n):\n",
    "        dists = distance.cdist(data.loc[selected], data.loc[remaining], metric)\n",
    "        closest = dists.min(axis=0)  # distance between candidates and closest selection\n",
    "        distances.append(closest.max())\n",
    "        add = remaining[np.argmax(closest)]\n",
    "        selected += [add]\n",
    "        remaining.remove(add)\n",
    "\n",
    "    return selected, distances"
   ]
  },
  {
   "cell_type": "code",
   "execution_count": 11,
   "id": "db4336a4",
   "metadata": {},
   "outputs": [],
   "source": [
    "def greedy_minimin(data, remaining, selected,  n, metric=\"euclidean\"):\n",
    "    \"\"\"\n",
    "        data: pandas dataframe(rows=points, cols=dimensions)\n",
    "            points to choose from\n",
    "            \n",
    "        remaining: indexes of `data` that are candidates for the next point\n",
    "        \n",
    "        selected: indexes of `data` that have already been included\n",
    "        \n",
    "        n: number of additional points to include\n",
    "        \n",
    "        metric: \"euclidean\" \"cityblock\"\n",
    "            distance measures from scipy.spatial.distance\n",
    "    \"\"\"\n",
    "    distances = []\n",
    "    for _ in range(n):\n",
    "        dists = distance.cdist(data.loc[selected], data.loc[remaining], metric)\n",
    "        closest = dists.min(axis=0)  # distance between candidates and closest selection\n",
    "        distances.append(closest.min())\n",
    "        add = remaining[np.argmin(closest)]\n",
    "        selected += [add]\n",
    "        remaining.remove(add)\n",
    "\n",
    "    return selected, distances"
   ]
  },
  {
   "cell_type": "code",
   "execution_count": 3,
   "id": "ff8af181",
   "metadata": {},
   "outputs": [],
   "source": [
    "def within_set_distance(data, selected, metric=\"euclidean\"):\n",
    "    return distance.cdist(data.loc[selected],data.loc[selected], metric) "
   ]
  },
  {
   "cell_type": "code",
   "execution_count": 4,
   "id": "c524d45f",
   "metadata": {},
   "outputs": [],
   "source": [
    "task_map = pd.read_csv(\"https://raw.githubusercontent.com/Watts-Lab/task-mapping/master/task_map.csv\", index_col=\"task\")"
   ]
  },
  {
   "cell_type": "code",
   "execution_count": 5,
   "id": "891ba3cd",
   "metadata": {},
   "outputs": [],
   "source": [
    "# drop things that we can't play\n",
    "task_map.drop('Railroad Route Construction game (Impossible Version)', inplace = True)"
   ]
  },
  {
   "cell_type": "code",
   "execution_count": 6,
   "id": "8b7038a1",
   "metadata": {},
   "outputs": [
    {
     "data": {
      "text/plain": [
       "{'Categorization problem': 1.327927353825807,\n",
       " 'Mastermind': 1.314767006475193,\n",
       " 'Logic Problem': 1.314767006475193,\n",
       " 'Sudoku': 1.2644891501191098,\n",
       " 'Rank cities by population, rank words by familiarity': 1.3571198082938847,\n",
       " 'Shopping plan': 1.2985243632011951,\n",
       " 'Carter Racing (Experimenterless Version)': 1.3348059527761271,\n",
       " 'Iterative lemonade stand task': 1.3905839609299502,\n",
       " 'Reading the mind in the eyes': 1.2874307653715198,\n",
       " 'Writing story': 1.4049906884518972,\n",
       " 'Moral Reasoning (Disciplinary Action Case)': 1.3861196430538127,\n",
       " 'Word construction from a subset of letters': 1.3861196430538127,\n",
       " 'Carter Racing': 1.4578119039163786,\n",
       " 'Guessing the correlation': 1.3262720158124164,\n",
       " 'Wolf, goat and cabbage transfer': 1.5050411933774772,\n",
       " 'Room assignment task': 1.2644891501191098,\n",
       " 'Arithmetic problem 1': 1.314767006475193,\n",
       " 'Space Fortress': 1.3685967076244838,\n",
       " 'Visual Oddball Target': 1.327927353825807,\n",
       " 'The N light bulbs game': 1.39452242549287,\n",
       " 'Word completion given starting letter': 1.3220566556312625,\n",
       " 'Railroad Route Construction game': 1.4578119039163786,\n",
       " 'Allocating resources to programs': 1.3861196430538127,\n",
       " 'Game of Clue - Terrorist Attack': 1.314767006475193,\n",
       " 'Word completion given part of word': 1.3545880457465271,\n",
       " 'NASA Moon survival': 1.4137308943805522,\n",
       " 'Image rating': 1.5050411933774772,\n",
       " 'Estimating Factual Quantities': 1.3430876858098812,\n",
       " 'Run a mini business': 1.4049906884518972,\n",
       " 'Recall videos': 1.351931143897379,\n",
       " 'Search for Oil Task': 1.3142716615046393,\n",
       " 'To evacuate or not to evacuate': 1.3593768308435623,\n",
       " 'Estimating geological metrics': 1.354965225129428,\n",
       " 'Euclidean traveling salesperson': 1.349501692034833,\n",
       " 'Reproducing arts': 1.316516749763133,\n",
       " 'Estimating social quantity': 1.3430876858098812,\n",
       " 'Hidden figures in a picture (Searching Task)': 1.3545880457465271,\n",
       " 'Estimating pages of a book': 1.327927353825807,\n",
       " 'Abstract grid task': 1.314767006475193,\n",
       " 'Unscramble words (anagrams)': 1.266976694987486,\n",
       " 'Random dot motion': 1.3430876858098812,\n",
       " 'Target Search': 1.284793242935493,\n",
       " 'Find the maximum': 1.3704209523729018,\n",
       " 'Wildcam Gorongosa (Zooniverse)': 1.351931143897379,\n",
       " 'Recall stories': 1.3181919736380736,\n",
       " 'Recall association': 1.2644891501191098,\n",
       " 'Letters-to-numbers problems (cryptography)': 1.314767006475193,\n",
       " 'Architectural design task': 1.270212880233342,\n",
       " 'Recall word lists': 1.3185256049558314,\n",
       " \"Wason's Selection Task\": 1.327927353825807,\n",
       " 'Summarize Discussion': 1.3861196430538127,\n",
       " 'Divergent Association Task': 1.314767006475193,\n",
       " 'Crisis mapping': 1.2644891501191098,\n",
       " '9 Dot Problem': 1.3861196430538127,\n",
       " 'The Fish game': 1.327927353825807,\n",
       " 'Advertisement writing': 1.3861196430538127,\n",
       " 'Hidden figures in a picture (Recall Task)': 1.351931143897379,\n",
       " 'Computer maze': 1.2646981772108017,\n",
       " 'Splitting a deck of cards': 1.3264404597907022,\n",
       " 'Object based generalization for reasoning (Phyre)': 1.3430876858098812,\n",
       " 'Ravens Matrices': 1.327927353825807,\n",
       " 'Trivia Multiple Choice Quiz': 1.3685031463442792,\n",
       " 'Desert survival': 1.327927353825807,\n",
       " 'Putting food into categories': 1.5182079767488559,\n",
       " 'Wildcat Wells': 1.351931143897379,\n",
       " 'Graph coloring task': 1.39452242549287,\n",
       " 'Husbands and wives transfer': 1.2836892002736935,\n",
       " 'Checkers': 1.3861196430538127,\n",
       " 'Typing game': 1.3861196430538127,\n",
       " 'Recall images': 1.314767006475193,\n",
       " 'Whac-A-Mole': 1.2985243632011951,\n",
       " 'Oligopoly game': 1.3407533148001212,\n",
       " 'Bullard Houses': 1.327927353825807,\n",
       " 'Arithmetic problem 2': 1.351931143897379,\n",
       " 'Find the common symbol': 1.2644891501191098,\n",
       " 'Blocks World for Teams': 1.3110450987907964,\n",
       " \"Intergroup Prisoner's Dilemma\": 1.34885848250293,\n",
       " 'Minimum-effort tacit coordination game': 1.2917685643296217,\n",
       " 'Public goods game': 1.3571198082938847,\n",
       " 'The beer game': 1.358676012499189,\n",
       " 'Pharmaceutical Company (hidden-profile)': 1.4034832664278678,\n",
       " 'Ultimatum game (various versions)': 1.3407533148001212,\n",
       " 'New Recruit': 1.3571198082938847,\n",
       " 'Investment Game (aka Trust Game)': 1.337553447543206,\n",
       " 'Aerospace Investment (Role-playing)': 1.3571198082938847,\n",
       " 'Minimal Group Paradigm (study diversity)': 1.327927353825807,\n",
       " 'Volunteer Investment Game': 1.3407533148001212,\n",
       " 'Sender-Receiver game': 1.3571198082938847,\n",
       " 'Iterated Snowdrift Game (With Punishment)': 1.3622529092976878,\n",
       " 'Dictator game and its variants': 1.327927353825807,\n",
       " 'Chicken': 1.351931143897379,\n",
       " 'Battle of the sexes': 1.3514484924001282,\n",
       " 'Apache helicopter flight simulator (Longbow2)': 1.396615107096302,\n",
       " \"Prisoner's Dilemma (various versions)\": 1.3571198082938847,\n",
       " 'Mock jury': 1.5182079767488559,\n",
       " 'Biopharm Seltek': 1.490884573765077,\n",
       " 'Iterated Snowdrift Game (Without Punishment)': 1.327927353825807,\n",
       " 'Investment game (hidden-profile)': 1.3545880457465271,\n",
       " 'Organization Game': 1.4429695505391518,\n",
       " 'TOPSIM - general mgmt business game': 1.3842534975691607,\n",
       " 'Best job candidate (hidden-profile)': 1.3545880457465271}"
      ]
     },
     "execution_count": 6,
     "metadata": {},
     "output_type": "execute_result"
    }
   ],
   "source": [
    "scores_dict = {}\n",
    "for task in task_map.index:\n",
    "    selected = [task]\n",
    "    remaining = list(task_map.index.difference(selected))\n",
    "    choices,scores = greedy_maximin(task_map, remaining, selected, n=10)\n",
    "    scores_dict[task] = scores[9]\n",
    "\n",
    "scores_dict"
   ]
  },
  {
   "cell_type": "code",
   "execution_count": 7,
   "id": "9dd8152b",
   "metadata": {},
   "outputs": [
    {
     "name": "stdout",
     "output_type": "stream",
     "text": [
      "[1.34885848 1.4578119 ]\n"
     ]
    }
   ],
   "source": [
    "print(np.quantile(list(scores_dict.values()), [0.5, 0.95]))"
   ]
  },
  {
   "cell_type": "code",
   "execution_count": 8,
   "id": "96f47764",
   "metadata": {},
   "outputs": [
    {
     "data": {
      "text/plain": [
       "'Putting food into categories'"
      ]
     },
     "execution_count": 8,
     "metadata": {},
     "output_type": "execute_result"
    }
   ],
   "source": [
    "pd.Series(scores_dict).idxmax()"
   ]
  },
  {
   "cell_type": "code",
   "execution_count": 9,
   "id": "8be89d93",
   "metadata": {},
   "outputs": [
    {
     "data": {
      "text/plain": [
       "['Putting food into categories',\n",
       " '9 Dot Problem',\n",
       " 'Shopping plan',\n",
       " 'Mock jury',\n",
       " 'Whac-A-Mole',\n",
       " 'Checkers',\n",
       " 'Reproducing arts',\n",
       " 'Image rating',\n",
       " 'TOPSIM - general mgmt business game',\n",
       " 'Word construction from a subset of letters',\n",
       " 'Minimal Group Paradigm (study diversity)']"
      ]
     },
     "execution_count": 9,
     "metadata": {},
     "output_type": "execute_result"
    }
   ],
   "source": [
    "selected = [pd.Series(scores_dict).idxmax()]\n",
    "remaining = list(task_map.index.difference(selected))\n",
    "choices,scores = greedy_maximin(task_map, remaining, selected, n=10)\n",
    "choices"
   ]
  },
  {
   "cell_type": "code",
   "execution_count": 12,
   "id": "978db34e",
   "metadata": {},
   "outputs": [
    {
     "data": {
      "text/plain": [
       "[2.90228703058967,\n",
       " 2.1921208634595635,\n",
       " 2.058555436176121,\n",
       " 1.8837114540228188,\n",
       " 1.7314536668700191,\n",
       " 1.700180875381155,\n",
       " 1.6158821586245415,\n",
       " 1.5791388667943016,\n",
       " 1.5520976353478793,\n",
       " 1.5182079767488559]"
      ]
     },
     "execution_count": 12,
     "metadata": {},
     "output_type": "execute_result"
    }
   ],
   "source": [
    "# print the scores\n",
    "scores"
   ]
  },
  {
   "attachments": {},
   "cell_type": "markdown",
   "id": "65ff3cc8",
   "metadata": {},
   "source": [
    "# Try to replicate for a 'closest cluster'"
   ]
  },
  {
   "cell_type": "code",
   "execution_count": 26,
   "id": "909d8921",
   "metadata": {},
   "outputs": [],
   "source": [
    "scores_dict_min = {}\n",
    "for task in task_map.index:\n",
    "    selected = [task]\n",
    "    remaining = list(task_map.index.difference(selected))\n",
    "    choices,scores = greedy_minimin(task_map, remaining, selected, n=10)\n",
    "    scores_dict_min[task] = scores[9]"
   ]
  },
  {
   "cell_type": "code",
   "execution_count": 31,
   "id": "5b76ed58",
   "metadata": {},
   "outputs": [
    {
     "data": {
      "text/plain": [
       "['Arithmetic problem 1',\n",
       " 'Euclidean traveling salesperson',\n",
       " 'Abstract grid task',\n",
       " 'Mastermind',\n",
       " 'Logic Problem',\n",
       " 'Guessing the correlation',\n",
       " 'Random dot motion',\n",
       " 'Letters-to-numbers problems (cryptography)',\n",
       " 'Computer maze',\n",
       " 'Recall images',\n",
       " 'Recall stories']"
      ]
     },
     "execution_count": 31,
     "metadata": {},
     "output_type": "execute_result"
    }
   ],
   "source": [
    "selected = [pd.Series(scores_dict_min).idxmin()]\n",
    "#selected = [\"Recall stories\"]\n",
    "remaining = list(task_map.index.difference(selected))\n",
    "choices,scores = greedy_minimin(task_map, remaining, selected, n=10)\n",
    "choices"
   ]
  },
  {
   "cell_type": "code",
   "execution_count": 13,
   "id": "cf11e0ce",
   "metadata": {},
   "outputs": [],
   "source": [
    "def get_min_dist_within_set(selected):\n",
    "    res = within_set_distance(task_map, selected)\n",
    "    # the commented out code is the minimum of the pairwise distances\n",
    "    #res[res == 0] = 10000000 # get rid of the diagonal, which is obviously zero\n",
    "    return np.sum(res)/2\n",
    "    #return np.min(res)"
   ]
  },
  {
   "cell_type": "code",
   "execution_count": 14,
   "id": "e7adf88c",
   "metadata": {},
   "outputs": [
    {
     "data": {
      "text/plain": [
       "87.87285801782764"
      ]
     },
     "execution_count": 14,
     "metadata": {},
     "output_type": "execute_result"
    }
   ],
   "source": [
    "implemented = ['Euclidean traveling salesperson', 'Allocating resources to programs', '9 Dot Problem', 'Abstract grid task', 'Advertisement writing', 'Whac-A-Mole', 'Putting food into categories', 'Room assignment task', 'Divergent Association Task', 'Recall association']\n",
    "get_min_dist_within_set(implemented)"
   ]
  },
  {
   "cell_type": "code",
   "execution_count": 15,
   "id": "e7adf88c",
   "metadata": {},
   "outputs": [
    {
     "data": {
      "text/plain": [
       "71.45196851015572"
      ]
     },
     "execution_count": 15,
     "metadata": {},
     "output_type": "execute_result"
    }
   ],
   "source": [
    "selected_abdullah = ['Search for Oil Task','Advertisement writing',\"Wason's Selection Task\",'To evacuate or not to evacuate','Space Fortress','Word completion given part of word','Graph coloring task','Estimating social quantity','Logic Problem','Divergent Association Task']\n",
    "get_min_dist_within_set(selected_abdullah)"
   ]
  },
  {
   "cell_type": "code",
   "execution_count": 16,
   "id": "c961f3ae",
   "metadata": {},
   "outputs": [
    {
     "data": {
      "text/plain": [
       "113.61616637305886"
      ]
     },
     "execution_count": 16,
     "metadata": {},
     "output_type": "execute_result"
    }
   ],
   "source": [
    "get_min_dist_within_set(choices)"
   ]
  },
  {
   "cell_type": "code",
   "execution_count": 17,
   "id": "5e79e5d7",
   "metadata": {},
   "outputs": [
    {
     "name": "stdout",
     "output_type": "stream",
     "text": [
      "['Room assignment task', 'Summarize Discussion', 'Whac-A-Mole', '9 Dot Problem', 'Word construction from a subset of letters', 'TOPSIM - general mgmt business game', 'Image rating', 'Putting food into categories', 'Typing game', 'Railroad Route Construction game', 'Mock jury']\n"
     ]
    },
    {
     "data": {
      "text/plain": [
       "388.31591411881453"
      ]
     },
     "execution_count": 17,
     "metadata": {},
     "output_type": "execute_result"
    }
   ],
   "source": [
    "# What happens if we started with room assignment as before?\n",
    "selected = ['Room assignment task']\n",
    "remaining = list(task_map.index.difference(selected))\n",
    "print(greedy_maximin(task_map, remaining, selected, n=10)[0])\n",
    "get_min_dist_within_set(greedy_maximin(task_map, remaining, selected, n=10)[0])"
   ]
  },
  {
   "cell_type": "markdown",
   "id": "d9fb8328",
   "metadata": {},
   "source": [
    "## Which tasks should we replace to improve our score?\n",
    "What if we start with our existing set, and greedily replace tasks with the one most likely to improve our score?"
   ]
  },
  {
   "cell_type": "code",
   "execution_count": 18,
   "id": "6d62276b",
   "metadata": {},
   "outputs": [],
   "source": [
    "original_tasks = ('Euclidean traveling salesperson', 'Allocating resources to programs', '9 Dot Problem', 'Guessing the correlation', 'Abstract grid task', 'Advertisement writing', 'Whac-A-Mole', 'Putting food into categories', 'Room assignment task', 'Divergent Association Task', 'Recall association')"
   ]
  },
  {
   "cell_type": "code",
   "execution_count": 19,
   "id": "10626619",
   "metadata": {},
   "outputs": [
    {
     "name": "stdout",
     "output_type": "stream",
     "text": [
      "Room assignment task\n",
      "['Euclidean traveling salesperson', 'Allocating resources to programs', '9 Dot Problem', 'Guessing the correlation', 'Abstract grid task', 'Advertisement writing', 'Whac-A-Mole', 'Putting food into categories', 'Divergent Association Task', 'Recall association', 'Bullard Houses']\n",
      "106.99442046515668\n",
      "Abstract grid task\n",
      "['Euclidean traveling salesperson', 'Allocating resources to programs', '9 Dot Problem', 'Guessing the correlation', 'Advertisement writing', 'Whac-A-Mole', 'Putting food into categories', 'Divergent Association Task', 'Recall association', 'Bullard Houses', 'Checkers']\n",
      "109.85863875323179\n",
      "Recall association\n",
      "['Euclidean traveling salesperson', 'Allocating resources to programs', '9 Dot Problem', 'Guessing the correlation', 'Advertisement writing', 'Whac-A-Mole', 'Putting food into categories', 'Divergent Association Task', 'Bullard Houses', 'Checkers', 'Word completion given starting letter']\n",
      "111.08631389546852\n",
      "Euclidean traveling salesperson\n",
      "['Allocating resources to programs', '9 Dot Problem', 'Guessing the correlation', 'Advertisement writing', 'Whac-A-Mole', 'Putting food into categories', 'Divergent Association Task', 'Bullard Houses', 'Checkers', 'Word completion given starting letter', 'Shopping plan']\n",
      "112.54084504046259\n",
      "Divergent Association Task\n",
      "['Allocating resources to programs', '9 Dot Problem', 'Guessing the correlation', 'Advertisement writing', 'Whac-A-Mole', 'Putting food into categories', 'Bullard Houses', 'Checkers', 'Word completion given starting letter', 'Shopping plan', 'Image rating']\n",
      "114.45093436156264\n",
      "Guessing the correlation\n",
      "['Allocating resources to programs', '9 Dot Problem', 'Advertisement writing', 'Whac-A-Mole', 'Putting food into categories', 'Bullard Houses', 'Checkers', 'Word completion given starting letter', 'Shopping plan', 'Image rating', 'Typing game']\n",
      "116.26081346509318\n",
      "Word completion given starting letter\n",
      "['Allocating resources to programs', '9 Dot Problem', 'Advertisement writing', 'Whac-A-Mole', 'Putting food into categories', 'Bullard Houses', 'Checkers', 'Shopping plan', 'Image rating', 'Typing game', 'Word construction from a subset of letters']\n",
      "117.03498619653277\n",
      "Word construction from a subset of letters\n",
      "['Allocating resources to programs', '9 Dot Problem', 'Advertisement writing', 'Whac-A-Mole', 'Putting food into categories', 'Bullard Houses', 'Checkers', 'Shopping plan', 'Image rating', 'Typing game', 'Word construction from a subset of letters']\n",
      "117.03498619653277\n",
      "Word construction from a subset of letters\n",
      "['Allocating resources to programs', '9 Dot Problem', 'Advertisement writing', 'Whac-A-Mole', 'Putting food into categories', 'Bullard Houses', 'Checkers', 'Shopping plan', 'Image rating', 'Typing game', 'Word construction from a subset of letters']\n",
      "117.03498619653277\n",
      "Word construction from a subset of letters\n",
      "['Allocating resources to programs', '9 Dot Problem', 'Advertisement writing', 'Whac-A-Mole', 'Putting food into categories', 'Bullard Houses', 'Checkers', 'Shopping plan', 'Image rating', 'Typing game', 'Word construction from a subset of letters']\n",
      "117.03498619653277\n",
      "Word construction from a subset of letters\n",
      "['Allocating resources to programs', '9 Dot Problem', 'Advertisement writing', 'Whac-A-Mole', 'Putting food into categories', 'Bullard Houses', 'Checkers', 'Shopping plan', 'Image rating', 'Typing game', 'Word construction from a subset of letters']\n",
      "117.03498619653277\n",
      "Word construction from a subset of letters\n",
      "['Allocating resources to programs', '9 Dot Problem', 'Advertisement writing', 'Whac-A-Mole', 'Putting food into categories', 'Bullard Houses', 'Checkers', 'Shopping plan', 'Image rating', 'Typing game', 'Word construction from a subset of letters']\n",
      "117.03498619653277\n",
      "Word construction from a subset of letters\n",
      "['Allocating resources to programs', '9 Dot Problem', 'Advertisement writing', 'Whac-A-Mole', 'Putting food into categories', 'Bullard Houses', 'Checkers', 'Shopping plan', 'Image rating', 'Typing game', 'Word construction from a subset of letters']\n",
      "117.03498619653277\n",
      "Word construction from a subset of letters\n",
      "['Allocating resources to programs', '9 Dot Problem', 'Advertisement writing', 'Whac-A-Mole', 'Putting food into categories', 'Bullard Houses', 'Checkers', 'Shopping plan', 'Image rating', 'Typing game', 'Word construction from a subset of letters']\n",
      "117.03498619653277\n",
      "Word construction from a subset of letters\n",
      "['Allocating resources to programs', '9 Dot Problem', 'Advertisement writing', 'Whac-A-Mole', 'Putting food into categories', 'Bullard Houses', 'Checkers', 'Shopping plan', 'Image rating', 'Typing game', 'Word construction from a subset of letters']\n",
      "117.03498619653277\n",
      "Word construction from a subset of letters\n",
      "['Allocating resources to programs', '9 Dot Problem', 'Advertisement writing', 'Whac-A-Mole', 'Putting food into categories', 'Bullard Houses', 'Checkers', 'Shopping plan', 'Image rating', 'Typing game', 'Word construction from a subset of letters']\n",
      "117.03498619653277\n",
      "Word construction from a subset of letters\n",
      "['Allocating resources to programs', '9 Dot Problem', 'Advertisement writing', 'Whac-A-Mole', 'Putting food into categories', 'Bullard Houses', 'Checkers', 'Shopping plan', 'Image rating', 'Typing game', 'Word construction from a subset of letters']\n",
      "117.03498619653277\n",
      "Word construction from a subset of letters\n",
      "['Allocating resources to programs', '9 Dot Problem', 'Advertisement writing', 'Whac-A-Mole', 'Putting food into categories', 'Bullard Houses', 'Checkers', 'Shopping plan', 'Image rating', 'Typing game', 'Word construction from a subset of letters']\n",
      "117.03498619653277\n",
      "Word construction from a subset of letters\n",
      "['Allocating resources to programs', '9 Dot Problem', 'Advertisement writing', 'Whac-A-Mole', 'Putting food into categories', 'Bullard Houses', 'Checkers', 'Shopping plan', 'Image rating', 'Typing game', 'Word construction from a subset of letters']\n",
      "117.03498619653277\n",
      "Word construction from a subset of letters\n",
      "['Allocating resources to programs', '9 Dot Problem', 'Advertisement writing', 'Whac-A-Mole', 'Putting food into categories', 'Bullard Houses', 'Checkers', 'Shopping plan', 'Image rating', 'Typing game', 'Word construction from a subset of letters']\n",
      "117.03498619653277\n"
     ]
    }
   ],
   "source": [
    "# set the max number of replacements you're willing to make\n",
    "MAX_NUM_TASKS_TO_REPLACE = 20\n",
    "dists_per_iteration = []\n",
    "\n",
    "# start with existing set\n",
    "current_task_list = original_tasks\n",
    "\n",
    "for i in range(MAX_NUM_TASKS_TO_REPLACE):\n",
    "    # go through each one and try replacing it to find the most optimal replacement\n",
    "    optimal_replacements = {}\n",
    "\n",
    "    for task in current_task_list:\n",
    "        selected_minus_task = list(current_task_list)\n",
    "        selected_minus_task.remove(task)\n",
    "        remaining = list(task_map.index.difference(selected_minus_task))\n",
    "        new_set = greedy_maximin(task_map, remaining, selected_minus_task, n=1)[0] # get a replacement'\n",
    "        optimal_replacements[task] = get_min_dist_within_set(new_set)\n",
    "    \n",
    "    optimal_task_to_replace = pd.Series(optimal_replacements).idxmax()\n",
    "    print(optimal_task_to_replace)\n",
    "    \n",
    "    # now set the task to the optimally-replaced one\n",
    "    selected_minus_task = list(current_task_list)\n",
    "    selected_minus_task.remove(optimal_task_to_replace)\n",
    "    remaining = list(task_map.index.difference(selected_minus_task))\n",
    "    current_task_list = (greedy_maximin(task_map, remaining, selected_minus_task, n=1)[0]) # get a replacement'\n",
    "    print(current_task_list)\n",
    "    print(get_min_dist_within_set(list(current_task_list)))\n",
    "    dists_per_iteration.append(get_min_dist_within_set(list(current_task_list)))"
   ]
  },
  {
   "cell_type": "code",
   "execution_count": 20,
   "id": "64587533",
   "metadata": {},
   "outputs": [
    {
     "data": {
      "image/png": "[encoded data removed]",
      "text/plain": [
       "<Figure size 432x288 with 1 Axes>"
      ]
     },
     "metadata": {
      "needs_background": "light"
     },
     "output_type": "display_data"
    }
   ],
   "source": [
    "plt.plot(range(1,len(dists_per_iteration)+1),dists_per_iteration)\n",
    "plt.xticks(np.arange(1, 20, 1))\n",
    "plt.xlabel('Number of Replacements (Iterations)', fontsize=8)\n",
    "plt.ylabel('Within-Set Distance', fontsize=8)\n",
    "plt.show()"
   ]
  },
  {
   "cell_type": "markdown",
   "id": "af8a56d0",
   "metadata": {},
   "source": [
    "### Visualize how well the algorithm performs against the out-of-the-box one from apricot"
   ]
  },
  {
   "cell_type": "code",
   "execution_count": 21,
   "id": "027d0306",
   "metadata": {},
   "outputs": [
    {
     "name": "stderr",
     "output_type": "stream",
     "text": [
      "100%|██████████| 10.0/10.0 [00:00<00:00, 1.70kit/s]\n"
     ]
    },
    {
     "data": {
      "text/plain": [
       "<matplotlib.legend.Legend at 0x7f7b713bdd60>"
      ]
     },
     "execution_count": 21,
     "metadata": {},
     "output_type": "execute_result"
    },
    {
     "data": {
      "image/png": "[encoded data removed]",
      "text/plain": [
       "<Figure size 576x576 with 1 Axes>"
      ]
     },
     "metadata": {
      "needs_background": "light"
     },
     "output_type": "display_data"
    }
   ],
   "source": [
    "X_random = np.random.uniform(0, 1, (70,2))\n",
    "\n",
    "# for documentation: https://apricot-select.readthedocs.io/en/latest/functions/facilityLocation.html\n",
    "selector = FacilityLocationSelection(10, metric='euclidean',\n",
    "                                     optimizer='naive',\n",
    "                                     n_jobs=10,\n",
    "                                     verbose=True,\n",
    "                                    ).fit(X_random)\n",
    "X_subset = selector.transform(X_random)\n",
    "\n",
    "\n",
    "fig = plt.figure(figsize = (8,8))\n",
    "ax = fig.add_subplot(1,1,1) \n",
    "\n",
    "ax.scatter(X_random[:, 0], X_random[:, 1], label='all', color='blue')\n",
    "ax.scatter(X_subset[:, 0], X_subset[:, 1], label='selected', color='red')\n",
    "ax.legend()"
   ]
  },
  {
   "cell_type": "code",
   "execution_count": 22,
   "id": "32253b67",
   "metadata": {},
   "outputs": [
    {
     "data": {
      "text/plain": [
       "[31, 43, 65, 15, 0, 55, 67, 61, 41, 60, 14]"
      ]
     },
     "execution_count": 22,
     "metadata": {},
     "output_type": "execute_result"
    }
   ],
   "source": [
    "X_random_df = pd.DataFrame(X_random)\n",
    "\n",
    "scores_dict_rand = {}\n",
    "for item in X_random_df.index:\n",
    "    selected = [item]\n",
    "    remaining = list(X_random_df.index.difference(selected))\n",
    "    choices,scores = greedy_maximin(X_random_df, remaining, selected, n=10)\n",
    "    scores_dict_rand[item] = scores[9]\n",
    "\n",
    "score_rand_max = pd.Series(scores_dict_rand).idxmax()\n",
    "\n",
    "selected = [score_rand_max]\n",
    "remaining = list(X_random_df.index.difference(selected))\n",
    "choices,scores = greedy_maximin(X_random_df, remaining, selected, n=10)\n",
    "choices"
   ]
  },
  {
   "cell_type": "code",
   "execution_count": 23,
   "metadata": {},
   "outputs": [],
   "source": [
    "X_subset_james = np.asarray(X_random_df.iloc[choices])"
   ]
  },
  {
   "cell_type": "code",
   "execution_count": 24,
   "id": "3ec2935d",
   "metadata": {},
   "outputs": [
    {
     "data": {
      "text/plain": [
       "<matplotlib.legend.Legend at 0x7f7b51bda670>"
      ]
     },
     "execution_count": 24,
     "metadata": {},
     "output_type": "execute_result"
    },
    {
     "data": {
      "image/png": "[encoded data removed]",
      "text/plain": [
       "<Figure size 576x576 with 1 Axes>"
      ]
     },
     "metadata": {
      "needs_background": "light"
     },
     "output_type": "display_data"
    }
   ],
   "source": [
    "fig = plt.figure(figsize = (8,8))\n",
    "ax = fig.add_subplot(1,1,1) \n",
    "\n",
    "ax.scatter(X_random[:, 0], X_random[:, 1], label='all', color='blue')\n",
    "ax.scatter(X_subset_james[:, 0], X_subset_james[:, 1], label='selected', color='red')\n",
    "ax.legend()"
   ]
  }
 ],
 "metadata": {
  "interpreter": {
   "hash": "7812ea015bdcee6f23a998adcdd2ef97c151c0c241b7b7070987d9313e41299d"
  },
  "kernelspec": {
   "display_name": "Python 3.9.5 64-bit",
   "language": "python",
   "name": "python3"
  },
  "language_info": {
   "codemirror_mode": {
    "name": "ipython",
    "version": 3
   },
   "file_extension": ".py",
   "mimetype": "text/x-python",
   "name": "python",
   "nbconvert_exporter": "python",
   "pygments_lexer": "ipython3",
   "version": "3.9.5"
  }
 },
 "nbformat": 4,
 "nbformat_minor": 5
}
