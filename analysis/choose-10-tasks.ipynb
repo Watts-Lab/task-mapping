{
 "cells": [
  {
   "cell_type": "code",
   "execution_count": 1,
   "metadata": {},
   "outputs": [],
   "source": [
    "import numpy as np\n",
    "import pandas as pd\n",
    "from scipy.spatial import distance\n",
    "import matplotlib.pyplot as plt\n",
    "from apricot import FacilityLocationSelection"
   ]
  },
  {
   "cell_type": "code",
   "execution_count": 2,
   "id": "991f3c10",
   "metadata": {},
   "outputs": [],
   "source": [
    "def greedy_maximin(data, remaining, selected,  n, metric=\"euclidean\"):\n",
    "    \"\"\"\n",
    "        data: pandas dataframe(rows=points, cols=dimensions)\n",
    "            points to choose from\n",
    "            \n",
    "        remaining: indexes of `data` that are candidates for the next point\n",
    "        \n",
    "        selected: indexes of `data` that have already been included\n",
    "        \n",
    "        n: number of additional points to include\n",
    "        \n",
    "        metric: \"euclidean\" \"cityblock\"\n",
    "            distance measures from scipy.spatial.distance\n",
    "    \"\"\"\n",
    "    distances = []\n",
    "    for _ in range(n):\n",
    "        dists = distance.cdist(data.loc[selected], data.loc[remaining], metric)\n",
    "        closest = dists.min(axis=0)  # distance between candidates and closest selection\n",
    "        distances.append(closest.max())\n",
    "        add = remaining[np.argmax(closest)]\n",
    "        selected += [add]\n",
    "        remaining.remove(add)\n",
    "\n",
    "    return selected, distances"
   ]
  },
  {
   "cell_type": "code",
   "execution_count": 3,
   "id": "ff8af181",
   "metadata": {},
   "outputs": [],
   "source": [
    "def within_set_distance(data, selected, metric=\"euclidean\"):\n",
    "    return distance.cdist(data.loc[selected],data.loc[selected], metric) "
   ]
  },
  {
   "cell_type": "code",
   "execution_count": 4,
   "id": "c524d45f",
   "metadata": {},
   "outputs": [],
   "source": [
    "task_map = pd.read_csv(\"https://raw.githubusercontent.com/Watts-Lab/task-mapping/master/task_map.csv\", index_col=\"task\")"
   ]
  },
  {
   "cell_type": "code",
   "execution_count": 5,
   "id": "891ba3cd",
   "metadata": {},
   "outputs": [],
   "source": [
    "# drop things that we can't play\n",
    "task_map.drop('Railroad Route Construction game (Impossible Version)', inplace = True)"
   ]
  },
  {
   "cell_type": "code",
   "execution_count": 6,
   "id": "8b7038a1",
   "metadata": {},
   "outputs": [
    {
     "data": {
      "text/plain": [
       "{'Categorization problem': 1.2666853861623764,\n",
       " 'Mastermind': 1.1591455502371815,\n",
       " 'Logic Problem': 1.138013480692106,\n",
       " 'Sudoku': 1.1815937548338622,\n",
       " 'Rank cities by population, rank words by familiarity': 1.245662832693769,\n",
       " 'Shopping plan': 1.2783177766403093,\n",
       " 'Carter Racing (Experimenterless Version)': 1.245662832693769,\n",
       " 'Iterative lemonade stand task': 1.2492651678687603,\n",
       " 'Reading the mind in the eyes': 1.245662832693769,\n",
       " 'Writing story': 1.327927353825807,\n",
       " 'Moral Reasoning (Disciplinary Action Case)': 1.327927353825807,\n",
       " 'Word construction from a subset of letters': 1.327927353825807,\n",
       " 'Carter Racing': 1.327927353825807,\n",
       " 'Guessing the correlation': 1.245662832693769,\n",
       " 'Wolf, goat and cabbage transfer': 1.327927353825807,\n",
       " 'Room assignment task': 1.230500442813333,\n",
       " 'Arithmetic problem 1': 1.2423124375329524,\n",
       " 'Space Fortress': 1.1950364528599255,\n",
       " 'Visual Oddball Target': 1.2852284292264256,\n",
       " 'The N light bulbs game': 1.294694757035991,\n",
       " 'Word completion given starting letter': 1.2956786507112639,\n",
       " 'Railroad Route Construction game': 1.327927353825807,\n",
       " 'Allocating resources to programs': 1.327927353825807,\n",
       " 'Game of Clue - Terrorist Attack': 1.2198489125167087,\n",
       " 'Word completion given part of word': 1.1645132406576677,\n",
       " 'NASA Moon survival': 1.1645132406576677,\n",
       " 'Image rating': 1.327927353825807,\n",
       " 'Estimating Factual Quantities': 1.257232415589099,\n",
       " 'Run a mini business': 1.327927353825807,\n",
       " 'Recall videos': 1.1950364528599255,\n",
       " 'Search for Oil Task': 1.135543993464277,\n",
       " 'To evacuate or not to evacuate': 1.327927353825807,\n",
       " 'Estimating geological metrics': 1.257232415589099,\n",
       " 'Euclidean traveling salesperson': 1.2942677546079149,\n",
       " 'Reproducing arts': 1.2783177766403093,\n",
       " 'Estimating social quantity': 1.3060238092911927,\n",
       " 'Hidden figures in a picture (Searching Task)': 1.2075852628803498,\n",
       " 'Estimating pages of a book': 1.327927353825807,\n",
       " 'Abstract grid task': 1.245662832693769,\n",
       " 'Unscramble words (anagrams)': 1.1645132406576677,\n",
       " 'Random dot motion': 1.2529149959502057,\n",
       " 'Target Search': 1.2630667110911196,\n",
       " 'Find the maximum': 1.327927353825807,\n",
       " 'Wildcam Gorongosa (Zooniverse)': 1.1950364528599255,\n",
       " 'Recall stories': 1.245662832693769,\n",
       " 'Recall association': 1.164801594467144,\n",
       " 'Letters-to-numbers problems (cryptography)': 1.1591455502371815,\n",
       " 'Architectural design task': 1.2239213961968607,\n",
       " 'Recall word lists': 1.1939345888777728,\n",
       " \"Wason's Selection Task\": 1.284292028730713,\n",
       " 'Summarize Discussion': 1.327927353825807,\n",
       " 'Divergent Association Task': 1.2783177766403093,\n",
       " 'Crisis mapping': 1.1904292469099444,\n",
       " '9 Dot Problem': 1.327927353825807,\n",
       " 'The Fish game': 1.3139958425111968,\n",
       " 'Advertisement writing': 1.327927353825807,\n",
       " 'Hidden figures in a picture (Recall Task)': 1.210069640195654,\n",
       " 'Computer maze': 1.1591455502371815,\n",
       " 'Splitting a deck of cards': 1.2570986954024692,\n",
       " 'Object based generalization for reasoning (Phyre)': 1.2529149959502057,\n",
       " 'Ravens Matrices': 1.278907664814581,\n",
       " 'Trivia Multiple Choice Quiz': 1.3158618729851734,\n",
       " 'Desert survival': 1.300548161662164,\n",
       " 'Putting food into categories': 1.2783177766403093,\n",
       " 'Wildcat Wells': 1.1950364528599255,\n",
       " 'Graph coloring task': 1.245662832693769,\n",
       " 'Husbands and wives transfer': 1.2836892002736935,\n",
       " 'Checkers': 1.327927353825807,\n",
       " 'Typing game': 1.327927353825807,\n",
       " 'Recall images': 1.192328748339638,\n",
       " 'Whac-A-Mole': 1.2783177766403093}"
      ]
     },
     "execution_count": 6,
     "metadata": {},
     "output_type": "execute_result"
    }
   ],
   "source": [
    "scores_dict = {}\n",
    "for task in task_map.index:\n",
    "    selected = [task]\n",
    "    remaining = list(task_map.index.difference(selected))\n",
    "    choices,scores = greedy_maximin(task_map, remaining, selected, n=10)\n",
    "    scores_dict[task] = scores[9]\n",
    "\n",
    "scores_dict"
   ]
  },
  {
   "cell_type": "code",
   "execution_count": 7,
   "id": "9dd8152b",
   "metadata": {},
   "outputs": [
    {
     "name": "stdout",
     "output_type": "stream",
     "text": [
      "[1.25723242 1.32792735]\n"
     ]
    }
   ],
   "source": [
    "print(np.quantile(list(scores_dict.values()), [0.5, 0.95]))"
   ]
  },
  {
   "cell_type": "code",
   "execution_count": 8,
   "id": "96f47764",
   "metadata": {},
   "outputs": [
    {
     "data": {
      "text/plain": [
       "'Writing story'"
      ]
     },
     "execution_count": 8,
     "metadata": {},
     "output_type": "execute_result"
    }
   ],
   "source": [
    "pd.Series(scores_dict).idxmax()"
   ]
  },
  {
   "cell_type": "code",
   "execution_count": 9,
   "id": "8be89d93",
   "metadata": {},
   "outputs": [
    {
     "data": {
      "text/plain": [
       "['Writing story',\n",
       " '9 Dot Problem',\n",
       " 'Word construction from a subset of letters',\n",
       " 'Image rating',\n",
       " 'Checkers',\n",
       " 'Run a mini business',\n",
       " 'Typing game',\n",
       " 'Whac-A-Mole',\n",
       " 'Divergent Association Task',\n",
       " 'Carter Racing',\n",
       " 'Object based generalization for reasoning (Phyre)']"
      ]
     },
     "execution_count": 9,
     "metadata": {},
     "output_type": "execute_result"
    }
   ],
   "source": [
    "selected = ['Writing story']\n",
    "remaining = list(task_map.index.difference(selected))\n",
    "choices,scores = greedy_maximin(task_map, remaining, selected, n=10)\n",
    "choices"
   ]
  },
  {
   "cell_type": "code",
   "execution_count": 12,
   "id": "978db34e",
   "metadata": {},
   "outputs": [
    {
     "data": {
      "text/plain": [
       "[3.033024588462129,\n",
       " 2.3611329688851113,\n",
       " 2.023028412417927,\n",
       " 1.7957277411343644,\n",
       " 1.6941734671205697,\n",
       " 1.651693174221916,\n",
       " 1.4104539514341472,\n",
       " 1.4049906884518972,\n",
       " 1.3675509868542826,\n",
       " 1.327927353825807]"
      ]
     },
     "execution_count": 12,
     "metadata": {},
     "output_type": "execute_result"
    }
   ],
   "source": [
    "# print the scores\n",
    "scores"
   ]
  },
  {
   "cell_type": "code",
   "execution_count": 13,
   "id": "cf11e0ce",
   "metadata": {},
   "outputs": [],
   "source": [
    "def get_min_dist_within_set(selected):\n",
    "    res = within_set_distance(task_map, selected)\n",
    "    # the commented out code is the minimum of the pairwise distances\n",
    "    #res[res == 0] = 10000000 # get rid of the diagonal, which is obviously zero\n",
    "    return np.sum(res)/2\n",
    "    #return np.min(res)"
   ]
  },
  {
   "cell_type": "code",
   "execution_count": 14,
   "id": "e7adf88c",
   "metadata": {},
   "outputs": [
    {
     "data": {
      "text/plain": [
       "87.87285801782764"
      ]
     },
     "execution_count": 14,
     "metadata": {},
     "output_type": "execute_result"
    }
   ],
   "source": [
    "implemented = ['Euclidean traveling salesperson', 'Allocating resources to programs', '9 Dot Problem', 'Abstract grid task', 'Advertisement writing', 'Whac-A-Mole', 'Putting food into categories', 'Room assignment task', 'Divergent Association Task', 'Recall association']\n",
    "get_min_dist_within_set(implemented)"
   ]
  },
  {
   "cell_type": "code",
   "execution_count": 15,
   "id": "e7adf88c",
   "metadata": {},
   "outputs": [
    {
     "data": {
      "text/plain": [
       "71.45196851015572"
      ]
     },
     "execution_count": 15,
     "metadata": {},
     "output_type": "execute_result"
    }
   ],
   "source": [
    "selected_abdullah = ['Search for Oil Task','Advertisement writing',\"Wason's Selection Task\",'To evacuate or not to evacuate','Space Fortress','Word completion given part of word','Graph coloring task','Estimating social quantity','Logic Problem','Divergent Association Task']\n",
    "get_min_dist_within_set(selected_abdullah)"
   ]
  },
  {
   "cell_type": "code",
   "execution_count": 16,
   "id": "c961f3ae",
   "metadata": {},
   "outputs": [
    {
     "data": {
      "text/plain": [
       "105.16549147041633"
      ]
     },
     "execution_count": 16,
     "metadata": {},
     "output_type": "execute_result"
    }
   ],
   "source": [
    "get_min_dist_within_set(choices)"
   ]
  },
  {
   "cell_type": "code",
   "execution_count": 17,
   "id": "5e79e5d7",
   "metadata": {},
   "outputs": [
    {
     "name": "stdout",
     "output_type": "stream",
     "text": [
      "['Room assignment task', 'Summarize Discussion', 'Whac-A-Mole', '9 Dot Problem', 'Word construction from a subset of letters', 'Image rating', 'Putting food into categories', 'Typing game', 'Railroad Route Construction game', 'Run a mini business', 'Object based generalization for reasoning (Phyre)']\n"
     ]
    },
    {
     "data": {
      "text/plain": [
       "373.72511967237915"
      ]
     },
     "execution_count": 17,
     "metadata": {},
     "output_type": "execute_result"
    }
   ],
   "source": [
    "# What happens if we started with room assignment as before?\n",
    "selected = ['Room assignment task']\n",
    "remaining = list(task_map.index.difference(selected))\n",
    "print(greedy_maximin(task_map, remaining, selected, n=10)[0])\n",
    "get_min_dist_within_set(greedy_maximin(task_map, remaining, selected, n=10)[0])"
   ]
  },
  {
   "cell_type": "markdown",
   "id": "d9fb8328",
   "metadata": {},
   "source": [
    "## Which tasks should we replace to improve our score?\n",
    "What if we start with our existing set, and greedily replace tasks with the one most likely to improve our score?"
   ]
  },
  {
   "cell_type": "code",
   "execution_count": 18,
   "id": "6d62276b",
   "metadata": {},
   "outputs": [],
   "source": [
    "original_tasks = ('Euclidean traveling salesperson', 'Allocating resources to programs', '9 Dot Problem', 'Guessing the correlation', 'Abstract grid task', 'Advertisement writing', 'Whac-A-Mole', 'Putting food into categories', 'Room assignment task', 'Divergent Association Task', 'Recall association')"
   ]
  },
  {
   "cell_type": "code",
   "execution_count": 19,
   "id": "10626619",
   "metadata": {},
   "outputs": [
    {
     "name": "stdout",
     "output_type": "stream",
     "text": [
      "Room assignment task\n",
      "['Euclidean traveling salesperson', 'Allocating resources to programs', '9 Dot Problem', 'Guessing the correlation', 'Abstract grid task', 'Advertisement writing', 'Whac-A-Mole', 'Putting food into categories', 'Divergent Association Task', 'Recall association', 'Checkers']\n",
      "108.0039640435684\n",
      "Recall association\n",
      "['Euclidean traveling salesperson', 'Allocating resources to programs', '9 Dot Problem', 'Guessing the correlation', 'Abstract grid task', 'Advertisement writing', 'Whac-A-Mole', 'Putting food into categories', 'Divergent Association Task', 'Checkers', 'Word completion given starting letter']\n",
      "109.82034636741712\n",
      "Divergent Association Task\n",
      "['Euclidean traveling salesperson', 'Allocating resources to programs', '9 Dot Problem', 'Guessing the correlation', 'Abstract grid task', 'Advertisement writing', 'Whac-A-Mole', 'Putting food into categories', 'Checkers', 'Word completion given starting letter', 'To evacuate or not to evacuate']\n",
      "110.70384339869409\n",
      "Word completion given starting letter\n",
      "['Euclidean traveling salesperson', 'Allocating resources to programs', '9 Dot Problem', 'Guessing the correlation', 'Abstract grid task', 'Advertisement writing', 'Whac-A-Mole', 'Putting food into categories', 'Checkers', 'To evacuate or not to evacuate', 'Word construction from a subset of letters']\n",
      "111.66588282505793\n",
      "Euclidean traveling salesperson\n",
      "['Allocating resources to programs', '9 Dot Problem', 'Guessing the correlation', 'Abstract grid task', 'Advertisement writing', 'Whac-A-Mole', 'Putting food into categories', 'Checkers', 'To evacuate or not to evacuate', 'Word construction from a subset of letters', 'Run a mini business']\n",
      "112.08430191640487\n",
      "9 Dot Problem\n",
      "['Allocating resources to programs', 'Guessing the correlation', 'Abstract grid task', 'Advertisement writing', 'Whac-A-Mole', 'Putting food into categories', 'Checkers', 'To evacuate or not to evacuate', 'Word construction from a subset of letters', 'Run a mini business', '9 Dot Problem']\n",
      "112.08430191640487\n",
      "Whac-A-Mole\n",
      "['Allocating resources to programs', 'Guessing the correlation', 'Abstract grid task', 'Advertisement writing', 'Putting food into categories', 'Checkers', 'To evacuate or not to evacuate', 'Word construction from a subset of letters', 'Run a mini business', '9 Dot Problem', 'Whac-A-Mole']\n",
      "112.08430191640487\n",
      "Run a mini business\n",
      "['Allocating resources to programs', 'Guessing the correlation', 'Abstract grid task', 'Advertisement writing', 'Putting food into categories', 'Checkers', 'To evacuate or not to evacuate', 'Word construction from a subset of letters', '9 Dot Problem', 'Whac-A-Mole', 'Run a mini business']\n",
      "112.08430191640487\n",
      "Putting food into categories\n",
      "['Allocating resources to programs', 'Guessing the correlation', 'Abstract grid task', 'Advertisement writing', 'Checkers', 'To evacuate or not to evacuate', 'Word construction from a subset of letters', '9 Dot Problem', 'Whac-A-Mole', 'Run a mini business', 'Putting food into categories']\n",
      "112.08430191640487\n",
      "9 Dot Problem\n",
      "['Allocating resources to programs', 'Guessing the correlation', 'Abstract grid task', 'Advertisement writing', 'Checkers', 'To evacuate or not to evacuate', 'Word construction from a subset of letters', 'Whac-A-Mole', 'Run a mini business', 'Putting food into categories', '9 Dot Problem']\n",
      "112.08430191640487\n",
      "To evacuate or not to evacuate\n",
      "['Allocating resources to programs', 'Guessing the correlation', 'Abstract grid task', 'Advertisement writing', 'Checkers', 'Word construction from a subset of letters', 'Whac-A-Mole', 'Run a mini business', 'Putting food into categories', '9 Dot Problem', 'To evacuate or not to evacuate']\n",
      "112.08430191640487\n",
      "Word construction from a subset of letters\n",
      "['Allocating resources to programs', 'Guessing the correlation', 'Abstract grid task', 'Advertisement writing', 'Checkers', 'Whac-A-Mole', 'Run a mini business', 'Putting food into categories', '9 Dot Problem', 'To evacuate or not to evacuate', 'Word construction from a subset of letters']\n",
      "112.08430191640487\n",
      "Whac-A-Mole\n",
      "['Allocating resources to programs', 'Guessing the correlation', 'Abstract grid task', 'Advertisement writing', 'Checkers', 'Run a mini business', 'Putting food into categories', '9 Dot Problem', 'To evacuate or not to evacuate', 'Word construction from a subset of letters', 'Whac-A-Mole']\n",
      "112.08430191640487\n",
      "Whac-A-Mole\n",
      "['Allocating resources to programs', 'Guessing the correlation', 'Abstract grid task', 'Advertisement writing', 'Checkers', 'Run a mini business', 'Putting food into categories', '9 Dot Problem', 'To evacuate or not to evacuate', 'Word construction from a subset of letters', 'Whac-A-Mole']\n",
      "112.08430191640487\n",
      "Whac-A-Mole\n",
      "['Allocating resources to programs', 'Guessing the correlation', 'Abstract grid task', 'Advertisement writing', 'Checkers', 'Run a mini business', 'Putting food into categories', '9 Dot Problem', 'To evacuate or not to evacuate', 'Word construction from a subset of letters', 'Whac-A-Mole']\n",
      "112.08430191640487\n",
      "Whac-A-Mole\n",
      "['Allocating resources to programs', 'Guessing the correlation', 'Abstract grid task', 'Advertisement writing', 'Checkers', 'Run a mini business', 'Putting food into categories', '9 Dot Problem', 'To evacuate or not to evacuate', 'Word construction from a subset of letters', 'Whac-A-Mole']\n",
      "112.08430191640487\n",
      "Whac-A-Mole\n",
      "['Allocating resources to programs', 'Guessing the correlation', 'Abstract grid task', 'Advertisement writing', 'Checkers', 'Run a mini business', 'Putting food into categories', '9 Dot Problem', 'To evacuate or not to evacuate', 'Word construction from a subset of letters', 'Whac-A-Mole']\n",
      "112.08430191640487\n",
      "Whac-A-Mole\n",
      "['Allocating resources to programs', 'Guessing the correlation', 'Abstract grid task', 'Advertisement writing', 'Checkers', 'Run a mini business', 'Putting food into categories', '9 Dot Problem', 'To evacuate or not to evacuate', 'Word construction from a subset of letters', 'Whac-A-Mole']\n",
      "112.08430191640487\n",
      "Whac-A-Mole\n",
      "['Allocating resources to programs', 'Guessing the correlation', 'Abstract grid task', 'Advertisement writing', 'Checkers', 'Run a mini business', 'Putting food into categories', '9 Dot Problem', 'To evacuate or not to evacuate', 'Word construction from a subset of letters', 'Whac-A-Mole']\n",
      "112.08430191640487\n",
      "Whac-A-Mole\n",
      "['Allocating resources to programs', 'Guessing the correlation', 'Abstract grid task', 'Advertisement writing', 'Checkers', 'Run a mini business', 'Putting food into categories', '9 Dot Problem', 'To evacuate or not to evacuate', 'Word construction from a subset of letters', 'Whac-A-Mole']\n",
      "112.08430191640487\n"
     ]
    }
   ],
   "source": [
    "# set the max number of replacements you're willing to make\n",
    "MAX_NUM_TASKS_TO_REPLACE = 20\n",
    "dists_per_iteration = []\n",
    "\n",
    "# start with existing set\n",
    "current_task_list = original_tasks\n",
    "\n",
    "for i in range(MAX_NUM_TASKS_TO_REPLACE):\n",
    "    # go through each one and try replacing it to find the most optimal replacement\n",
    "    optimal_replacements = {}\n",
    "\n",
    "    for task in current_task_list:\n",
    "        selected_minus_task = list(current_task_list)\n",
    "        selected_minus_task.remove(task)\n",
    "        remaining = list(task_map.index.difference(selected_minus_task))\n",
    "        new_set = greedy_maximin(task_map, remaining, selected_minus_task, n=1)[0] # get a replacement'\n",
    "        optimal_replacements[task] = get_min_dist_within_set(new_set)\n",
    "    \n",
    "    optimal_task_to_replace = pd.Series(optimal_replacements).idxmax()\n",
    "    print(optimal_task_to_replace)\n",
    "    \n",
    "    # now set the task to the optimally-replaced one\n",
    "    selected_minus_task = list(current_task_list)\n",
    "    selected_minus_task.remove(optimal_task_to_replace)\n",
    "    remaining = list(task_map.index.difference(selected_minus_task))\n",
    "    current_task_list = (greedy_maximin(task_map, remaining, selected_minus_task, n=1)[0]) # get a replacement'\n",
    "    print(current_task_list)\n",
    "    print(get_min_dist_within_set(list(current_task_list)))\n",
    "    dists_per_iteration.append(get_min_dist_within_set(list(current_task_list)))"
   ]
  },
  {
   "cell_type": "code",
   "execution_count": 20,
   "id": "64587533",
   "metadata": {},
   "outputs": [
    {
     "data": {
      "image/png": "[encoded data removed]",
      "text/plain": [
       "<Figure size 432x288 with 1 Axes>"
      ]
     },
     "metadata": {
      "needs_background": "light"
     },
     "output_type": "display_data"
    }
   ],
   "source": [
    "plt.plot(range(1,len(dists_per_iteration)+1),dists_per_iteration)\n",
    "plt.xticks(np.arange(1, 20, 1))\n",
    "plt.xlabel('Number of Replacements (Iterations)', fontsize=8)\n",
    "plt.ylabel('Within-Set Distance', fontsize=8)\n",
    "plt.show()"
   ]
  },
  {
   "cell_type": "markdown",
   "id": "af8a56d0",
   "metadata": {},
   "source": [
    "### Visualize how well the algorithm performs against the out-of-the-box one from apricot"
   ]
  },
  {
   "cell_type": "code",
   "execution_count": 56,
   "id": "027d0306",
   "metadata": {},
   "outputs": [
    {
     "name": "stderr",
     "output_type": "stream",
     "text": [
      "100%|██████████| 10.0/10.0 [00:00<00:00, 3.07kit/s]\n"
     ]
    },
    {
     "data": {
      "text/plain": [
       "<matplotlib.legend.Legend at 0x7fa7a164cf10>"
      ]
     },
     "execution_count": 56,
     "metadata": {},
     "output_type": "execute_result"
    },
    {
     "data": {
      "image/png": "[encoded data removed]",
      "text/plain": [
       "<Figure size 576x576 with 1 Axes>"
      ]
     },
     "metadata": {
      "needs_background": "light"
     },
     "output_type": "display_data"
    }
   ],
   "source": [
    "X_random = np.random.uniform(0, 1, (70,2))\n",
    "\n",
    "# for documentation: https://apricot-select.readthedocs.io/en/latest/functions/facilityLocation.html\n",
    "selector = FacilityLocationSelection(10, metric='euclidean',\n",
    "                                     optimizer='naive',\n",
    "                                     n_jobs=10,\n",
    "                                     verbose=True,\n",
    "                                    ).fit(X_random)\n",
    "X_subset = selector.transform(X_random)\n",
    "\n",
    "\n",
    "fig = plt.figure(figsize = (8,8))\n",
    "ax = fig.add_subplot(1,1,1) \n",
    "\n",
    "ax.scatter(X_random[:, 0], X_random[:, 1], label='all', color='blue')\n",
    "ax.scatter(X_subset[:, 0], X_subset[:, 1], label='selected', color='red')\n",
    "ax.legend()"
   ]
  },
  {
   "cell_type": "code",
   "execution_count": 53,
   "id": "32253b67",
   "metadata": {},
   "outputs": [
    {
     "data": {
      "text/plain": [
       "[46, 22, 12, 4, 55, 32, 15, 59, 42, 61, 2]"
      ]
     },
     "execution_count": 53,
     "metadata": {},
     "output_type": "execute_result"
    }
   ],
   "source": [
    "X_random_df = pd.DataFrame(X_random)\n",
    "\n",
    "scores_dict_rand = {}\n",
    "for item in X_random_df.index:\n",
    "    selected = [item]\n",
    "    remaining = list(X_random_df.index.difference(selected))\n",
    "    choices,scores = greedy_maximin(X_random_df, remaining, selected, n=10)\n",
    "    scores_dict_rand[item] = scores[9]\n",
    "\n",
    "score_rand_max = pd.Series(scores_dict_rand).idxmax()\n",
    "\n",
    "selected = [score_rand_max]\n",
    "remaining = list(X_random_df.index.difference(selected))\n",
    "choices,scores = greedy_maximin(X_random_df, remaining, selected, n=10)\n",
    "choices"
   ]
  },
  {
   "cell_type": "code",
   "execution_count": 54,
   "metadata": {},
   "outputs": [],
   "source": [
    "X_subset_james = np.asarray(X_random_df.iloc[choices])"
   ]
  },
  {
   "cell_type": "code",
   "execution_count": 55,
   "id": "3ec2935d",
   "metadata": {},
   "outputs": [
    {
     "data": {
      "text/plain": [
       "<matplotlib.legend.Legend at 0x7fa7b14fa6a0>"
      ]
     },
     "execution_count": 55,
     "metadata": {},
     "output_type": "execute_result"
    },
    {
     "data": {
      "image/png": "[encoded data removed]",
      "text/plain": [
       "<Figure size 576x576 with 1 Axes>"
      ]
     },
     "metadata": {
      "needs_background": "light"
     },
     "output_type": "display_data"
    }
   ],
   "source": [
    "fig = plt.figure(figsize = (8,8))\n",
    "ax = fig.add_subplot(1,1,1) \n",
    "\n",
    "ax.scatter(X_random[:, 0], X_random[:, 1], label='all', color='blue')\n",
    "ax.scatter(X_subset_james[:, 0], X_subset_james[:, 1], label='selected', color='red')\n",
    "ax.legend()"
   ]
  }
 ],
 "metadata": {
  "interpreter": {
   "hash": "7812ea015bdcee6f23a998adcdd2ef97c151c0c241b7b7070987d9313e41299d"
  },
  "kernelspec": {
   "display_name": "Python 3.9.5 64-bit",
   "language": "python",
   "name": "python3"
  },
  "language_info": {
   "codemirror_mode": {
    "name": "ipython",
    "version": 3
   },
   "file_extension": ".py",
   "mimetype": "text/x-python",
   "name": "python",
   "nbconvert_exporter": "python",
   "pygments_lexer": "ipython3",
   "version": "3.9.5"
  }
 },
 "nbformat": 4,
 "nbformat_minor": 5
}
