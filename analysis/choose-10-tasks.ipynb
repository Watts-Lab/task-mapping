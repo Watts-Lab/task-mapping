{
 "cells": [
  {
   "cell_type": "code",
   "execution_count": 64,
   "metadata": {},
   "outputs": [],
   "source": [
    "import numpy as np\n",
    "import pandas as pd\n",
    "from scipy.spatial import distance\n",
    "import matplotlib.pyplot as plt\n",
    "from apricot import FacilityLocationSelection"
   ]
  },
  {
   "cell_type": "code",
   "execution_count": 65,
   "id": "991f3c10",
   "metadata": {},
   "outputs": [],
   "source": [
    "def greedy_maximin(data, remaining, selected,  n, metric=\"euclidean\"):\n",
    "    \"\"\"\n",
    "        data: pandas dataframe(rows=points, cols=dimensions)\n",
    "            points to choose from\n",
    "            \n",
    "        remaining: indexes of `data` that are candidates for the next point\n",
    "        \n",
    "        selected: indexes of `data` that have already been included\n",
    "        \n",
    "        n: number of additional points to include\n",
    "        \n",
    "        metric: \"euclidean\" \"cityblock\"\n",
    "            distance measures from scipy.spatial.distance\n",
    "    \"\"\"\n",
    "    distances = []\n",
    "    for _ in range(n):\n",
    "        dists = distance.cdist(data.loc[selected], data.loc[remaining], metric)\n",
    "        closest = dists.min(axis=0)  # distance between candidates and closest selection\n",
    "        distances.append(closest.max())\n",
    "        add = remaining[np.argmax(closest)]\n",
    "        selected += [add]\n",
    "        remaining.remove(add)\n",
    "\n",
    "    return selected, distances"
   ]
  },
  {
   "cell_type": "code",
   "execution_count": 66,
   "id": "db4336a4",
   "metadata": {},
   "outputs": [],
   "source": [
    "def greedy_minimin(data, remaining, selected,  n, metric=\"euclidean\"):\n",
    "    \"\"\"\n",
    "        data: pandas dataframe(rows=points, cols=dimensions)\n",
    "            points to choose from\n",
    "            \n",
    "        remaining: indexes of `data` that are candidates for the next point\n",
    "        \n",
    "        selected: indexes of `data` that have already been included\n",
    "        \n",
    "        n: number of additional points to include\n",
    "        \n",
    "        metric: \"euclidean\" \"cityblock\"\n",
    "            distance measures from scipy.spatial.distance\n",
    "    \"\"\"\n",
    "    distances = []\n",
    "    for _ in range(n):\n",
    "        dists = distance.cdist(data.loc[selected], data.loc[remaining], metric)\n",
    "        closest = dists.min(axis=0)  # distance between candidates and closest selection\n",
    "        distances.append(closest.min())\n",
    "        add = remaining[np.argmin(closest)]\n",
    "        selected += [add]\n",
    "        remaining.remove(add)\n",
    "\n",
    "    return selected, distances"
   ]
  },
  {
   "cell_type": "code",
   "execution_count": 67,
   "id": "ff8af181",
   "metadata": {},
   "outputs": [],
   "source": [
    "def within_set_distance(data, selected, metric=\"euclidean\"):\n",
    "    return distance.cdist(data.loc[selected],data.loc[selected], metric) "
   ]
  },
  {
   "cell_type": "code",
   "execution_count": 68,
   "id": "c524d45f",
   "metadata": {},
   "outputs": [],
   "source": [
    "task_map = pd.read_csv(\"https://raw.githubusercontent.com/Watts-Lab/task-mapping/master/task_map.csv\", index_col=\"task\")"
   ]
  },
  {
   "cell_type": "code",
   "execution_count": 69,
   "id": "1f6c260e",
   "metadata": {},
   "outputs": [
    {
     "data": {
      "text/html": [
       "<div>\n",
       "<style scoped>\n",
       "    .dataframe tbody tr th:only-of-type {\n",
       "        vertical-align: middle;\n",
       "    }\n",
       "\n",
       "    .dataframe tbody tr th {\n",
       "        vertical-align: top;\n",
       "    }\n",
       "\n",
       "    .dataframe thead th {\n",
       "        text-align: right;\n",
       "    }\n",
       "</style>\n",
       "<table border=\"1\" class=\"dataframe\">\n",
       "  <thead>\n",
       "    <tr style=\"text-align: right;\">\n",
       "      <th></th>\n",
       "      <th>Q1concept_behav</th>\n",
       "      <th>Q3type_1_planning</th>\n",
       "      <th>Q4type_2_generate</th>\n",
       "      <th>Q6type_5_cc</th>\n",
       "      <th>Q7type_7_battle</th>\n",
       "      <th>Q8type_8_performance</th>\n",
       "      <th>Q9divisible_unitary</th>\n",
       "      <th>Q10maximizing</th>\n",
       "      <th>Q11optimizing</th>\n",
       "      <th>Q13outcome_multip</th>\n",
       "      <th>...</th>\n",
       "      <th>Q18ans_recog</th>\n",
       "      <th>Q19time_solvability</th>\n",
       "      <th>Q20type_3_type_4</th>\n",
       "      <th>Q22confl_tradeoffs</th>\n",
       "      <th>Q23ss_out_uncert</th>\n",
       "      <th>Q24eureka_question</th>\n",
       "      <th>Q2intel_manip_1</th>\n",
       "      <th>Q21intellective_judg_1</th>\n",
       "      <th>Q5creativity_input_1</th>\n",
       "      <th>Q25_type6_mixed_motive</th>\n",
       "    </tr>\n",
       "    <tr>\n",
       "      <th>task</th>\n",
       "      <th></th>\n",
       "      <th></th>\n",
       "      <th></th>\n",
       "      <th></th>\n",
       "      <th></th>\n",
       "      <th></th>\n",
       "      <th></th>\n",
       "      <th></th>\n",
       "      <th></th>\n",
       "      <th></th>\n",
       "      <th></th>\n",
       "      <th></th>\n",
       "      <th></th>\n",
       "      <th></th>\n",
       "      <th></th>\n",
       "      <th></th>\n",
       "      <th></th>\n",
       "      <th></th>\n",
       "      <th></th>\n",
       "      <th></th>\n",
       "      <th></th>\n",
       "    </tr>\n",
       "  </thead>\n",
       "  <tbody>\n",
       "    <tr>\n",
       "      <th>Categorization problem</th>\n",
       "      <td>0.000000</td>\n",
       "      <td>0.166667</td>\n",
       "      <td>0.166667</td>\n",
       "      <td>0.125000</td>\n",
       "      <td>0.333333</td>\n",
       "      <td>0.916667</td>\n",
       "      <td>0.217391</td>\n",
       "      <td>0.458333</td>\n",
       "      <td>0.875000</td>\n",
       "      <td>0.958333</td>\n",
       "      <td>...</td>\n",
       "      <td>0.875000</td>\n",
       "      <td>1.000000</td>\n",
       "      <td>1.000000</td>\n",
       "      <td>0.708333</td>\n",
       "      <td>0.750000</td>\n",
       "      <td>0.250000</td>\n",
       "      <td>0.054167</td>\n",
       "      <td>0.945833</td>\n",
       "      <td>0.266667</td>\n",
       "      <td>0</td>\n",
       "    </tr>\n",
       "    <tr>\n",
       "      <th>Mastermind</th>\n",
       "      <td>0.000000</td>\n",
       "      <td>0.115385</td>\n",
       "      <td>0.115385</td>\n",
       "      <td>0.076923</td>\n",
       "      <td>0.200000</td>\n",
       "      <td>0.076923</td>\n",
       "      <td>0.160000</td>\n",
       "      <td>0.640000</td>\n",
       "      <td>0.846154</td>\n",
       "      <td>0.923077</td>\n",
       "      <td>...</td>\n",
       "      <td>0.807692</td>\n",
       "      <td>0.923077</td>\n",
       "      <td>1.000000</td>\n",
       "      <td>0.269231</td>\n",
       "      <td>0.461538</td>\n",
       "      <td>0.115385</td>\n",
       "      <td>0.103846</td>\n",
       "      <td>0.934615</td>\n",
       "      <td>0.234615</td>\n",
       "      <td>0</td>\n",
       "    </tr>\n",
       "    <tr>\n",
       "      <th>Logic Problem</th>\n",
       "      <td>0.000000</td>\n",
       "      <td>0.269231</td>\n",
       "      <td>0.153846</td>\n",
       "      <td>0.115385</td>\n",
       "      <td>0.230769</td>\n",
       "      <td>0.153846</td>\n",
       "      <td>0.269231</td>\n",
       "      <td>0.576923</td>\n",
       "      <td>0.769231</td>\n",
       "      <td>0.961538</td>\n",
       "      <td>...</td>\n",
       "      <td>0.923077</td>\n",
       "      <td>0.961538</td>\n",
       "      <td>0.961538</td>\n",
       "      <td>0.384615</td>\n",
       "      <td>0.692308</td>\n",
       "      <td>0.307692</td>\n",
       "      <td>0.026923</td>\n",
       "      <td>0.961538</td>\n",
       "      <td>0.200000</td>\n",
       "      <td>0</td>\n",
       "    </tr>\n",
       "    <tr>\n",
       "      <th>Sudoku</th>\n",
       "      <td>0.045455</td>\n",
       "      <td>0.136364</td>\n",
       "      <td>0.136364</td>\n",
       "      <td>0.090909</td>\n",
       "      <td>0.227273</td>\n",
       "      <td>0.954545</td>\n",
       "      <td>0.272727</td>\n",
       "      <td>0.272727</td>\n",
       "      <td>0.909091</td>\n",
       "      <td>0.954545</td>\n",
       "      <td>...</td>\n",
       "      <td>1.000000</td>\n",
       "      <td>1.000000</td>\n",
       "      <td>1.000000</td>\n",
       "      <td>0.181818</td>\n",
       "      <td>0.045455</td>\n",
       "      <td>0.227273</td>\n",
       "      <td>0.077273</td>\n",
       "      <td>0.990909</td>\n",
       "      <td>0.181818</td>\n",
       "      <td>0</td>\n",
       "    </tr>\n",
       "    <tr>\n",
       "      <th>Rank cities by population, rank words by familiarity</th>\n",
       "      <td>0.000000</td>\n",
       "      <td>0.043478</td>\n",
       "      <td>0.000000</td>\n",
       "      <td>0.086957</td>\n",
       "      <td>0.043478</td>\n",
       "      <td>0.000000</td>\n",
       "      <td>0.136364</td>\n",
       "      <td>0.565217</td>\n",
       "      <td>0.739130</td>\n",
       "      <td>0.956522</td>\n",
       "      <td>...</td>\n",
       "      <td>0.608696</td>\n",
       "      <td>0.869565</td>\n",
       "      <td>1.000000</td>\n",
       "      <td>0.086957</td>\n",
       "      <td>0.863636</td>\n",
       "      <td>0.043478</td>\n",
       "      <td>0.026087</td>\n",
       "      <td>0.947826</td>\n",
       "      <td>0.113043</td>\n",
       "      <td>0</td>\n",
       "    </tr>\n",
       "  </tbody>\n",
       "</table>\n",
       "<p>5 rows × 24 columns</p>\n",
       "</div>"
      ],
      "text/plain": [
       "                                                    Q1concept_behav  \\\n",
       "task                                                                  \n",
       "Categorization problem                                     0.000000   \n",
       "Mastermind                                                 0.000000   \n",
       "Logic Problem                                              0.000000   \n",
       "Sudoku                                                     0.045455   \n",
       "Rank cities by population, rank words by famili...         0.000000   \n",
       "\n",
       "                                                    Q3type_1_planning  \\\n",
       "task                                                                    \n",
       "Categorization problem                                       0.166667   \n",
       "Mastermind                                                   0.115385   \n",
       "Logic Problem                                                0.269231   \n",
       "Sudoku                                                       0.136364   \n",
       "Rank cities by population, rank words by famili...           0.043478   \n",
       "\n",
       "                                                    Q4type_2_generate  \\\n",
       "task                                                                    \n",
       "Categorization problem                                       0.166667   \n",
       "Mastermind                                                   0.115385   \n",
       "Logic Problem                                                0.153846   \n",
       "Sudoku                                                       0.136364   \n",
       "Rank cities by population, rank words by famili...           0.000000   \n",
       "\n",
       "                                                    Q6type_5_cc  \\\n",
       "task                                                              \n",
       "Categorization problem                                 0.125000   \n",
       "Mastermind                                             0.076923   \n",
       "Logic Problem                                          0.115385   \n",
       "Sudoku                                                 0.090909   \n",
       "Rank cities by population, rank words by famili...     0.086957   \n",
       "\n",
       "                                                    Q7type_7_battle  \\\n",
       "task                                                                  \n",
       "Categorization problem                                     0.333333   \n",
       "Mastermind                                                 0.200000   \n",
       "Logic Problem                                              0.230769   \n",
       "Sudoku                                                     0.227273   \n",
       "Rank cities by population, rank words by famili...         0.043478   \n",
       "\n",
       "                                                    Q8type_8_performance  \\\n",
       "task                                                                       \n",
       "Categorization problem                                          0.916667   \n",
       "Mastermind                                                      0.076923   \n",
       "Logic Problem                                                   0.153846   \n",
       "Sudoku                                                          0.954545   \n",
       "Rank cities by population, rank words by famili...              0.000000   \n",
       "\n",
       "                                                    Q9divisible_unitary  \\\n",
       "task                                                                      \n",
       "Categorization problem                                         0.217391   \n",
       "Mastermind                                                     0.160000   \n",
       "Logic Problem                                                  0.269231   \n",
       "Sudoku                                                         0.272727   \n",
       "Rank cities by population, rank words by famili...             0.136364   \n",
       "\n",
       "                                                    Q10maximizing  \\\n",
       "task                                                                \n",
       "Categorization problem                                   0.458333   \n",
       "Mastermind                                               0.640000   \n",
       "Logic Problem                                            0.576923   \n",
       "Sudoku                                                   0.272727   \n",
       "Rank cities by population, rank words by famili...       0.565217   \n",
       "\n",
       "                                                    Q11optimizing  \\\n",
       "task                                                                \n",
       "Categorization problem                                   0.875000   \n",
       "Mastermind                                               0.846154   \n",
       "Logic Problem                                            0.769231   \n",
       "Sudoku                                                   0.909091   \n",
       "Rank cities by population, rank words by famili...       0.739130   \n",
       "\n",
       "                                                    Q13outcome_multip  ...  \\\n",
       "task                                                                   ...   \n",
       "Categorization problem                                       0.958333  ...   \n",
       "Mastermind                                                   0.923077  ...   \n",
       "Logic Problem                                                0.961538  ...   \n",
       "Sudoku                                                       0.954545  ...   \n",
       "Rank cities by population, rank words by famili...           0.956522  ...   \n",
       "\n",
       "                                                    Q18ans_recog  \\\n",
       "task                                                               \n",
       "Categorization problem                                  0.875000   \n",
       "Mastermind                                              0.807692   \n",
       "Logic Problem                                           0.923077   \n",
       "Sudoku                                                  1.000000   \n",
       "Rank cities by population, rank words by famili...      0.608696   \n",
       "\n",
       "                                                    Q19time_solvability  \\\n",
       "task                                                                      \n",
       "Categorization problem                                         1.000000   \n",
       "Mastermind                                                     0.923077   \n",
       "Logic Problem                                                  0.961538   \n",
       "Sudoku                                                         1.000000   \n",
       "Rank cities by population, rank words by famili...             0.869565   \n",
       "\n",
       "                                                    Q20type_3_type_4  \\\n",
       "task                                                                   \n",
       "Categorization problem                                      1.000000   \n",
       "Mastermind                                                  1.000000   \n",
       "Logic Problem                                               0.961538   \n",
       "Sudoku                                                      1.000000   \n",
       "Rank cities by population, rank words by famili...          1.000000   \n",
       "\n",
       "                                                    Q22confl_tradeoffs  \\\n",
       "task                                                                     \n",
       "Categorization problem                                        0.708333   \n",
       "Mastermind                                                    0.269231   \n",
       "Logic Problem                                                 0.384615   \n",
       "Sudoku                                                        0.181818   \n",
       "Rank cities by population, rank words by famili...            0.086957   \n",
       "\n",
       "                                                    Q23ss_out_uncert  \\\n",
       "task                                                                   \n",
       "Categorization problem                                      0.750000   \n",
       "Mastermind                                                  0.461538   \n",
       "Logic Problem                                               0.692308   \n",
       "Sudoku                                                      0.045455   \n",
       "Rank cities by population, rank words by famili...          0.863636   \n",
       "\n",
       "                                                    Q24eureka_question  \\\n",
       "task                                                                     \n",
       "Categorization problem                                        0.250000   \n",
       "Mastermind                                                    0.115385   \n",
       "Logic Problem                                                 0.307692   \n",
       "Sudoku                                                        0.227273   \n",
       "Rank cities by population, rank words by famili...            0.043478   \n",
       "\n",
       "                                                    Q2intel_manip_1  \\\n",
       "task                                                                  \n",
       "Categorization problem                                     0.054167   \n",
       "Mastermind                                                 0.103846   \n",
       "Logic Problem                                              0.026923   \n",
       "Sudoku                                                     0.077273   \n",
       "Rank cities by population, rank words by famili...         0.026087   \n",
       "\n",
       "                                                    Q21intellective_judg_1  \\\n",
       "task                                                                         \n",
       "Categorization problem                                            0.945833   \n",
       "Mastermind                                                        0.934615   \n",
       "Logic Problem                                                     0.961538   \n",
       "Sudoku                                                            0.990909   \n",
       "Rank cities by population, rank words by famili...                0.947826   \n",
       "\n",
       "                                                    Q5creativity_input_1  \\\n",
       "task                                                                       \n",
       "Categorization problem                                          0.266667   \n",
       "Mastermind                                                      0.234615   \n",
       "Logic Problem                                                   0.200000   \n",
       "Sudoku                                                          0.181818   \n",
       "Rank cities by population, rank words by famili...              0.113043   \n",
       "\n",
       "                                                    Q25_type6_mixed_motive  \n",
       "task                                                                        \n",
       "Categorization problem                                                   0  \n",
       "Mastermind                                                               0  \n",
       "Logic Problem                                                            0  \n",
       "Sudoku                                                                   0  \n",
       "Rank cities by population, rank words by famili...                       0  \n",
       "\n",
       "[5 rows x 24 columns]"
      ]
     },
     "execution_count": 69,
     "metadata": {},
     "output_type": "execute_result"
    }
   ],
   "source": [
    "task_map.head()"
   ]
  },
  {
   "cell_type": "code",
   "execution_count": 70,
   "id": "891ba3cd",
   "metadata": {},
   "outputs": [],
   "source": [
    "# drop things that we can't play\n",
    "task_map.drop('Railroad Route Construction game (Impossible Version)', inplace = True)"
   ]
  },
  {
   "cell_type": "code",
   "execution_count": 71,
   "id": "27dcd1f1",
   "metadata": {},
   "outputs": [],
   "source": [
    "# drop things that are not playable by individuals (Mixed-Motive = 0)\n",
    "task_map = task_map[task_map[\"Q25_type6_mixed_motive\"] == 0]"
   ]
  },
  {
   "cell_type": "code",
   "execution_count": 72,
   "id": "8b7038a1",
   "metadata": {},
   "outputs": [],
   "source": [
    "scores_dict = {}\n",
    "for task in task_map.index:\n",
    "    selected = [task]\n",
    "    remaining = list(task_map.index.difference(selected))\n",
    "    choices,scores = greedy_maximin(task_map, remaining, selected, n=10)\n",
    "    scores_dict[task] = scores[9]"
   ]
  },
  {
   "cell_type": "code",
   "execution_count": 73,
   "id": "9dd8152b",
   "metadata": {},
   "outputs": [
    {
     "name": "stdout",
     "output_type": "stream",
     "text": [
      "[1.25723242 1.32792735]\n"
     ]
    }
   ],
   "source": [
    "print(np.quantile(list(scores_dict.values()), [0.5, 0.95]))"
   ]
  },
  {
   "cell_type": "code",
   "execution_count": 74,
   "id": "96f47764",
   "metadata": {},
   "outputs": [
    {
     "data": {
      "text/plain": [
       "'Writing story'"
      ]
     },
     "execution_count": 74,
     "metadata": {},
     "output_type": "execute_result"
    }
   ],
   "source": [
    "pd.Series(scores_dict).idxmax()"
   ]
  },
  {
   "cell_type": "code",
   "execution_count": 75,
   "id": "8be89d93",
   "metadata": {},
   "outputs": [
    {
     "data": {
      "text/plain": [
       "['Writing story',\n",
       " '9 Dot Problem',\n",
       " 'Word construction from a subset of letters',\n",
       " 'Image rating',\n",
       " 'Checkers',\n",
       " 'Run a mini business',\n",
       " 'Typing game',\n",
       " 'Whac-A-Mole',\n",
       " 'Divergent Association Task',\n",
       " 'Carter Racing']"
      ]
     },
     "execution_count": 75,
     "metadata": {},
     "output_type": "execute_result"
    }
   ],
   "source": [
    "selected = [pd.Series(scores_dict).idxmax()]\n",
    "remaining = list(task_map.index.difference(selected))\n",
    "choices,scores = greedy_maximin(task_map, remaining, selected, n=9) # needs to be 9 because we already selected 1\n",
    "choices"
   ]
  },
  {
   "cell_type": "code",
   "execution_count": 61,
   "id": "978db34e",
   "metadata": {},
   "outputs": [
    {
     "data": {
      "text/plain": [
       "[2.5496655359581437,\n",
       " 2.188780982478159,\n",
       " 1.9504622562723126,\n",
       " 1.9314821335512227,\n",
       " 1.927431393517628,\n",
       " 1.8565276466507805,\n",
       " 1.7812782820507724,\n",
       " 1.700180875381155,\n",
       " 1.6703836894544493]"
      ]
     },
     "execution_count": 61,
     "metadata": {},
     "output_type": "execute_result"
    }
   ],
   "source": [
    "# print the scores\n",
    "scores"
   ]
  },
  {
   "attachments": {},
   "cell_type": "markdown",
   "id": "65ff3cc8",
   "metadata": {},
   "source": [
    "# Try to replicate for a 'closest cluster'"
   ]
  },
  {
   "cell_type": "code",
   "execution_count": 62,
   "id": "70936a46",
   "metadata": {},
   "outputs": [],
   "source": [
    "scores_dict_min = {}\n",
    "for task in task_map.index:\n",
    "    selected = [task]\n",
    "    remaining = list(task_map.index.difference(selected))\n",
    "    choices,scores = greedy_minimin(task_map, remaining, selected, n=10)\n",
    "    scores_dict_min[task] = scores[9]"
   ]
  },
  {
   "cell_type": "code",
   "execution_count": 63,
   "id": "5b76ed58",
   "metadata": {},
   "outputs": [
    {
     "data": {
      "text/plain": [
       "['Arithmetic problem 1',\n",
       " 'Euclidean traveling salesperson',\n",
       " 'Abstract grid task',\n",
       " 'Mastermind',\n",
       " 'Logic Problem',\n",
       " 'Guessing the correlation',\n",
       " 'Random dot motion',\n",
       " 'Letters-to-numbers problems (cryptography)',\n",
       " 'Computer maze',\n",
       " 'Recall images']"
      ]
     },
     "execution_count": 63,
     "metadata": {},
     "output_type": "execute_result"
    }
   ],
   "source": [
    "selected = [pd.Series(scores_dict_min).idxmin()]\n",
    "remaining = list(task_map.index.difference(selected))\n",
    "choices,scores = greedy_minimin(task_map, remaining, selected, n=9)\n",
    "choices"
   ]
  },
  {
   "cell_type": "code",
   "execution_count": null,
   "id": "cf11e0ce",
   "metadata": {},
   "outputs": [],
   "source": [
    "def get_min_dist_within_set(selected):\n",
    "    res = within_set_distance(task_map, selected)\n",
    "    # the commented out code is the minimum of the pairwise distances\n",
    "    #res[res == 0] = 10000000 # get rid of the diagonal, which is obviously zero\n",
    "    return np.sum(res)/2\n",
    "    #return np.min(res)"
   ]
  },
  {
   "cell_type": "code",
   "execution_count": null,
   "id": "e7adf88c",
   "metadata": {},
   "outputs": [],
   "source": [
    "implemented = ['Euclidean traveling salesperson', 'Allocating resources to programs', '9 Dot Problem', 'Abstract grid task', 'Advertisement writing', 'Whac-A-Mole', 'Putting food into categories', 'Room assignment task', 'Divergent Association Task', 'Recall association']\n",
    "get_min_dist_within_set(implemented)"
   ]
  },
  {
   "cell_type": "code",
   "execution_count": null,
   "id": "e7adf88c",
   "metadata": {},
   "outputs": [
    {
     "data": {
      "text/plain": [
       "71.45196851015572"
      ]
     },
     "execution_count": 26,
     "metadata": {},
     "output_type": "execute_result"
    }
   ],
   "source": [
    "selected_abdullah = ['Search for Oil Task','Advertisement writing',\"Wason's Selection Task\",'To evacuate or not to evacuate','Space Fortress','Word completion given part of word','Graph coloring task','Estimating social quantity','Logic Problem','Divergent Association Task']\n",
    "get_min_dist_within_set(selected_abdullah)"
   ]
  },
  {
   "cell_type": "code",
   "execution_count": null,
   "id": "c961f3ae",
   "metadata": {},
   "outputs": [
    {
     "data": {
      "text/plain": [
       "34.49824474504256"
      ]
     },
     "execution_count": 27,
     "metadata": {},
     "output_type": "execute_result"
    }
   ],
   "source": [
    "get_min_dist_within_set(choices)"
   ]
  },
  {
   "cell_type": "code",
   "execution_count": null,
   "id": "5e79e5d7",
   "metadata": {},
   "outputs": [
    {
     "name": "stdout",
     "output_type": "stream",
     "text": [
      "['Room assignment task', 'Summarize Discussion', 'Whac-A-Mole', '9 Dot Problem', 'Word construction from a subset of letters', 'Image rating', 'Putting food into categories', 'Typing game', 'Railroad Route Construction game', 'Run a mini business', 'Object based generalization for reasoning (Phyre)']\n"
     ]
    },
    {
     "data": {
      "text/plain": [
       "374.5756054252797"
      ]
     },
     "execution_count": 28,
     "metadata": {},
     "output_type": "execute_result"
    }
   ],
   "source": [
    "# What happens if we started with room assignment as before?\n",
    "selected = ['Room assignment task']\n",
    "remaining = list(task_map.index.difference(selected))\n",
    "print(greedy_maximin(task_map, remaining, selected, n=10)[0])\n",
    "get_min_dist_within_set(greedy_maximin(task_map, remaining, selected, n=10)[0])"
   ]
  },
  {
   "attachments": {},
   "cell_type": "markdown",
   "id": "d9fb8328",
   "metadata": {},
   "source": [
    "## Which tasks should we replace to improve our score?\n",
    "What if we start with our existing set, and greedily replace tasks with the one most likely to improve our score?"
   ]
  },
  {
   "cell_type": "code",
   "execution_count": null,
   "id": "6d62276b",
   "metadata": {},
   "outputs": [],
   "source": [
    "original_tasks = ('Euclidean traveling salesperson', 'Allocating resources to programs', '9 Dot Problem', 'Guessing the correlation', 'Abstract grid task', 'Advertisement writing', 'Whac-A-Mole', 'Putting food into categories', 'Room assignment task', 'Divergent Association Task', 'Recall association')"
   ]
  },
  {
   "cell_type": "code",
   "execution_count": null,
   "id": "10626619",
   "metadata": {},
   "outputs": [
    {
     "name": "stdout",
     "output_type": "stream",
     "text": [
      "Room assignment task\n",
      "['Euclidean traveling salesperson', 'Allocating resources to programs', '9 Dot Problem', 'Guessing the correlation', 'Abstract grid task', 'Advertisement writing', 'Whac-A-Mole', 'Putting food into categories', 'Divergent Association Task', 'Recall association', 'Checkers']\n",
      "108.0039640435684\n",
      "Recall association\n",
      "['Euclidean traveling salesperson', 'Allocating resources to programs', '9 Dot Problem', 'Guessing the correlation', 'Abstract grid task', 'Advertisement writing', 'Whac-A-Mole', 'Putting food into categories', 'Divergent Association Task', 'Checkers', 'Word completion given starting letter']\n",
      "109.82034636741712\n",
      "Divergent Association Task\n",
      "['Euclidean traveling salesperson', 'Allocating resources to programs', '9 Dot Problem', 'Guessing the correlation', 'Abstract grid task', 'Advertisement writing', 'Whac-A-Mole', 'Putting food into categories', 'Checkers', 'Word completion given starting letter', 'To evacuate or not to evacuate']\n",
      "110.70384339869409\n",
      "Word completion given starting letter\n",
      "['Euclidean traveling salesperson', 'Allocating resources to programs', '9 Dot Problem', 'Guessing the correlation', 'Abstract grid task', 'Advertisement writing', 'Whac-A-Mole', 'Putting food into categories', 'Checkers', 'To evacuate or not to evacuate', 'Word construction from a subset of letters']\n",
      "111.66588282505793\n",
      "Euclidean traveling salesperson\n",
      "['Allocating resources to programs', '9 Dot Problem', 'Guessing the correlation', 'Abstract grid task', 'Advertisement writing', 'Whac-A-Mole', 'Putting food into categories', 'Checkers', 'To evacuate or not to evacuate', 'Word construction from a subset of letters', 'Run a mini business']\n",
      "112.08430191640487\n",
      "9 Dot Problem\n",
      "['Allocating resources to programs', 'Guessing the correlation', 'Abstract grid task', 'Advertisement writing', 'Whac-A-Mole', 'Putting food into categories', 'Checkers', 'To evacuate or not to evacuate', 'Word construction from a subset of letters', 'Run a mini business', '9 Dot Problem']\n",
      "112.08430191640487\n",
      "Whac-A-Mole\n",
      "['Allocating resources to programs', 'Guessing the correlation', 'Abstract grid task', 'Advertisement writing', 'Putting food into categories', 'Checkers', 'To evacuate or not to evacuate', 'Word construction from a subset of letters', 'Run a mini business', '9 Dot Problem', 'Whac-A-Mole']\n",
      "112.08430191640487\n",
      "Run a mini business\n",
      "['Allocating resources to programs', 'Guessing the correlation', 'Abstract grid task', 'Advertisement writing', 'Putting food into categories', 'Checkers', 'To evacuate or not to evacuate', 'Word construction from a subset of letters', '9 Dot Problem', 'Whac-A-Mole', 'Run a mini business']\n",
      "112.08430191640487\n",
      "Putting food into categories\n",
      "['Allocating resources to programs', 'Guessing the correlation', 'Abstract grid task', 'Advertisement writing', 'Checkers', 'To evacuate or not to evacuate', 'Word construction from a subset of letters', '9 Dot Problem', 'Whac-A-Mole', 'Run a mini business', 'Putting food into categories']\n",
      "112.08430191640487\n",
      "9 Dot Problem\n",
      "['Allocating resources to programs', 'Guessing the correlation', 'Abstract grid task', 'Advertisement writing', 'Checkers', 'To evacuate or not to evacuate', 'Word construction from a subset of letters', 'Whac-A-Mole', 'Run a mini business', 'Putting food into categories', '9 Dot Problem']\n",
      "112.08430191640487\n",
      "To evacuate or not to evacuate\n",
      "['Allocating resources to programs', 'Guessing the correlation', 'Abstract grid task', 'Advertisement writing', 'Checkers', 'Word construction from a subset of letters', 'Whac-A-Mole', 'Run a mini business', 'Putting food into categories', '9 Dot Problem', 'To evacuate or not to evacuate']\n",
      "112.08430191640487\n",
      "Word construction from a subset of letters\n",
      "['Allocating resources to programs', 'Guessing the correlation', 'Abstract grid task', 'Advertisement writing', 'Checkers', 'Whac-A-Mole', 'Run a mini business', 'Putting food into categories', '9 Dot Problem', 'To evacuate or not to evacuate', 'Word construction from a subset of letters']\n",
      "112.08430191640487\n",
      "Whac-A-Mole\n",
      "['Allocating resources to programs', 'Guessing the correlation', 'Abstract grid task', 'Advertisement writing', 'Checkers', 'Run a mini business', 'Putting food into categories', '9 Dot Problem', 'To evacuate or not to evacuate', 'Word construction from a subset of letters', 'Whac-A-Mole']\n",
      "112.08430191640487\n",
      "Whac-A-Mole\n",
      "['Allocating resources to programs', 'Guessing the correlation', 'Abstract grid task', 'Advertisement writing', 'Checkers', 'Run a mini business', 'Putting food into categories', '9 Dot Problem', 'To evacuate or not to evacuate', 'Word construction from a subset of letters', 'Whac-A-Mole']\n",
      "112.08430191640487\n",
      "Whac-A-Mole\n",
      "['Allocating resources to programs', 'Guessing the correlation', 'Abstract grid task', 'Advertisement writing', 'Checkers', 'Run a mini business', 'Putting food into categories', '9 Dot Problem', 'To evacuate or not to evacuate', 'Word construction from a subset of letters', 'Whac-A-Mole']\n",
      "112.08430191640487\n",
      "Whac-A-Mole\n",
      "['Allocating resources to programs', 'Guessing the correlation', 'Abstract grid task', 'Advertisement writing', 'Checkers', 'Run a mini business', 'Putting food into categories', '9 Dot Problem', 'To evacuate or not to evacuate', 'Word construction from a subset of letters', 'Whac-A-Mole']\n",
      "112.08430191640487\n",
      "Whac-A-Mole\n",
      "['Allocating resources to programs', 'Guessing the correlation', 'Abstract grid task', 'Advertisement writing', 'Checkers', 'Run a mini business', 'Putting food into categories', '9 Dot Problem', 'To evacuate or not to evacuate', 'Word construction from a subset of letters', 'Whac-A-Mole']\n",
      "112.08430191640487\n",
      "Whac-A-Mole\n",
      "['Allocating resources to programs', 'Guessing the correlation', 'Abstract grid task', 'Advertisement writing', 'Checkers', 'Run a mini business', 'Putting food into categories', '9 Dot Problem', 'To evacuate or not to evacuate', 'Word construction from a subset of letters', 'Whac-A-Mole']\n",
      "112.08430191640487\n",
      "Whac-A-Mole\n",
      "['Allocating resources to programs', 'Guessing the correlation', 'Abstract grid task', 'Advertisement writing', 'Checkers', 'Run a mini business', 'Putting food into categories', '9 Dot Problem', 'To evacuate or not to evacuate', 'Word construction from a subset of letters', 'Whac-A-Mole']\n",
      "112.08430191640487\n",
      "Whac-A-Mole\n",
      "['Allocating resources to programs', 'Guessing the correlation', 'Abstract grid task', 'Advertisement writing', 'Checkers', 'Run a mini business', 'Putting food into categories', '9 Dot Problem', 'To evacuate or not to evacuate', 'Word construction from a subset of letters', 'Whac-A-Mole']\n",
      "112.08430191640487\n"
     ]
    }
   ],
   "source": [
    "# set the max number of replacements you're willing to make\n",
    "MAX_NUM_TASKS_TO_REPLACE = 20\n",
    "dists_per_iteration = []\n",
    "\n",
    "# start with existing set\n",
    "current_task_list = original_tasks\n",
    "\n",
    "for i in range(MAX_NUM_TASKS_TO_REPLACE):\n",
    "    # go through each one and try replacing it to find the most optimal replacement\n",
    "    optimal_replacements = {}\n",
    "\n",
    "    for task in current_task_list:\n",
    "        selected_minus_task = list(current_task_list)\n",
    "        selected_minus_task.remove(task)\n",
    "        remaining = list(task_map.index.difference(selected_minus_task))\n",
    "        new_set = greedy_maximin(task_map, remaining, selected_minus_task, n=1)[0] # get a replacement'\n",
    "        optimal_replacements[task] = get_min_dist_within_set(new_set)\n",
    "    \n",
    "    optimal_task_to_replace = pd.Series(optimal_replacements).idxmax()\n",
    "    print(optimal_task_to_replace)\n",
    "    \n",
    "    # now set the task to the optimally-replaced one\n",
    "    selected_minus_task = list(current_task_list)\n",
    "    selected_minus_task.remove(optimal_task_to_replace)\n",
    "    remaining = list(task_map.index.difference(selected_minus_task))\n",
    "    current_task_list = (greedy_maximin(task_map, remaining, selected_minus_task, n=1)[0]) # get a replacement'\n",
    "    print(current_task_list)\n",
    "    print(get_min_dist_within_set(list(current_task_list)))\n",
    "    dists_per_iteration.append(get_min_dist_within_set(list(current_task_list)))"
   ]
  },
  {
   "cell_type": "code",
   "execution_count": null,
   "id": "64587533",
   "metadata": {},
   "outputs": [
    {
     "data": {
      "image/png": "[encoded data removed]",
      "text/plain": [
       "<Figure size 432x288 with 1 Axes>"
      ]
     },
     "metadata": {
      "needs_background": "light"
     },
     "output_type": "display_data"
    }
   ],
   "source": [
    "plt.plot(range(1,len(dists_per_iteration)+1),dists_per_iteration)\n",
    "plt.xticks(np.arange(1, 20, 1))\n",
    "plt.xlabel('Number of Replacements (Iterations)', fontsize=8)\n",
    "plt.ylabel('Within-Set Distance', fontsize=8)\n",
    "plt.show()"
   ]
  },
  {
   "attachments": {},
   "cell_type": "markdown",
   "id": "af8a56d0",
   "metadata": {},
   "source": [
    "### Visualize how well the algorithm performs against the out-of-the-box one from apricot"
   ]
  },
  {
   "cell_type": "code",
   "execution_count": null,
   "id": "027d0306",
   "metadata": {},
   "outputs": [
    {
     "name": "stderr",
     "output_type": "stream",
     "text": [
      "100%|██████████| 10.0/10.0 [00:00<00:00, 893it/s]\n"
     ]
    },
    {
     "data": {
      "text/plain": [
       "<matplotlib.legend.Legend at 0x1361a6280>"
      ]
     },
     "execution_count": 32,
     "metadata": {},
     "output_type": "execute_result"
    },
    {
     "data": {
      "image/png": "[encoded data removed]",
      "text/plain": [
       "<Figure size 576x576 with 1 Axes>"
      ]
     },
     "metadata": {
      "needs_background": "light"
     },
     "output_type": "display_data"
    }
   ],
   "source": [
    "X_random = np.random.uniform(0, 1, (70,2))\n",
    "\n",
    "# for documentation: https://apricot-select.readthedocs.io/en/latest/functions/facilityLocation.html\n",
    "selector = FacilityLocationSelection(10, metric='euclidean',\n",
    "                                     optimizer='naive',\n",
    "                                     n_jobs=10,\n",
    "                                     verbose=True,\n",
    "                                    ).fit(X_random)\n",
    "X_subset = selector.transform(X_random)\n",
    "\n",
    "\n",
    "fig = plt.figure(figsize = (8,8))\n",
    "ax = fig.add_subplot(1,1,1) \n",
    "\n",
    "ax.scatter(X_random[:, 0], X_random[:, 1], label='all', color='blue')\n",
    "ax.scatter(X_subset[:, 0], X_subset[:, 1], label='selected', color='red')\n",
    "ax.legend()"
   ]
  },
  {
   "cell_type": "code",
   "execution_count": null,
   "id": "32253b67",
   "metadata": {},
   "outputs": [
    {
     "data": {
      "text/plain": [
       "[3, 15, 32, 63, 11, 28, 4, 35, 51, 64, 48]"
      ]
     },
     "execution_count": 33,
     "metadata": {},
     "output_type": "execute_result"
    }
   ],
   "source": [
    "X_random_df = pd.DataFrame(X_random)\n",
    "\n",
    "scores_dict_rand = {}\n",
    "for item in X_random_df.index:\n",
    "    selected = [item]\n",
    "    remaining = list(X_random_df.index.difference(selected))\n",
    "    choices,scores = greedy_maximin(X_random_df, remaining, selected, n=10)\n",
    "    scores_dict_rand[item] = scores[9]\n",
    "\n",
    "score_rand_max = pd.Series(scores_dict_rand).idxmax()\n",
    "\n",
    "selected = [score_rand_max]\n",
    "remaining = list(X_random_df.index.difference(selected))\n",
    "choices,scores = greedy_maximin(X_random_df, remaining, selected, n=10)\n",
    "choices"
   ]
  },
  {
   "cell_type": "code",
   "execution_count": null,
   "metadata": {},
   "outputs": [],
   "source": [
    "X_subset_james = np.asarray(X_random_df.iloc[choices])"
   ]
  },
  {
   "cell_type": "code",
   "execution_count": null,
   "id": "3ec2935d",
   "metadata": {},
   "outputs": [
    {
     "data": {
      "text/plain": [
       "<matplotlib.legend.Legend at 0x1361d73a0>"
      ]
     },
     "execution_count": 35,
     "metadata": {},
     "output_type": "execute_result"
    },
    {
     "data": {
      "image/png": "[encoded data removed]",
      "text/plain": [
       "<Figure size 576x576 with 1 Axes>"
      ]
     },
     "metadata": {
      "needs_background": "light"
     },
     "output_type": "display_data"
    }
   ],
   "source": [
    "fig = plt.figure(figsize = (8,8))\n",
    "ax = fig.add_subplot(1,1,1) \n",
    "\n",
    "ax.scatter(X_random[:, 0], X_random[:, 1], label='all', color='blue')\n",
    "ax.scatter(X_subset_james[:, 0], X_subset_james[:, 1], label='selected', color='red')\n",
    "ax.legend()"
   ]
  }
 ],
 "metadata": {
  "interpreter": {
   "hash": "7812ea015bdcee6f23a998adcdd2ef97c151c0c241b7b7070987d9313e41299d"
  },
  "kernelspec": {
   "display_name": "Python 3.9.5 64-bit",
   "language": "python",
   "name": "python3"
  },
  "language_info": {
   "codemirror_mode": {
    "name": "ipython",
    "version": 3
   },
   "file_extension": ".py",
   "mimetype": "text/x-python",
   "name": "python",
   "nbconvert_exporter": "python",
   "pygments_lexer": "ipython3",
   "version": "3.9.16"
  }
 },
 "nbformat": 4,
 "nbformat_minor": 5
}
