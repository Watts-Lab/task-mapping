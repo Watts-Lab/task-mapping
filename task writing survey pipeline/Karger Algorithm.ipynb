{
 "cells": [
  {
   "cell_type": "code",
   "execution_count": 12,
   "metadata": {},
   "outputs": [],
   "source": [
    "import numpy as np\n",
    "import pandas as pd\n",
    "import time\n",
    "from scipy.stats import mode"
   ]
  },
  {
   "cell_type": "code",
   "execution_count": 13,
   "id": "aca8a0cd",
   "metadata": {},
   "outputs": [],
   "source": [
    "# Read in the export of the  df.karger dataframe (data processing done in R script)\n",
    "df_karger = pd.read_csv(\"df_for_karger.csv\")"
   ]
  },
  {
   "cell_type": "code",
   "execution_count": 14,
   "id": "5245e4e3",
   "metadata": {},
   "outputs": [],
   "source": [
    "### Primary Function Implemnting the Karger Algorithm\n",
    "# I modified using the starting point at this repository: https://github.com/jpgard/budget-optimal-task-allocation-crowdsourcing\n",
    "\n",
    "def run_karger(G, A, m, n, max_num_iters):\n",
    "    e_i, e_j = np.nonzero(G)\n",
    "\n",
    "    for k in range(max_num_iters):\n",
    "\n",
    "        # initialize empty x message array\n",
    "        x_k = np.full((m, n), np.nan)\n",
    "        # initialize entries of Y with N(1,1) random variables\n",
    "        y_k = np.random.normal(loc=1, scale=1, size=(m, n))\n",
    "        # update the task message; represents the log-likelihood of task i being a positive task\n",
    "        for i, j in zip(e_i, e_j):\n",
    "            # delta_i_not_j, neighborhood of i excluding j (all workers assigned to task i excluding j)\n",
    "            delta_i = np.nonzero(G[i, :])[0]\n",
    "            delta_i_not_j = delta_i[delta_i != j]\n",
    "            x_k[i, j] = np.sum([A[i, j_prime] * y_k[i, j_prime] for j_prime in delta_i_not_j])\n",
    "            \n",
    "        # update the worker message; represents how reliable worker j is\n",
    "        for i, j in zip(e_i, e_j):\n",
    "            # delta_j_not_i; neighborhood of j excluding i (all tasks assigned to worker j excluding i)\n",
    "            delta_j = np.nonzero(G[:, j])[0]\n",
    "            delta_j_not_i = delta_j[delta_j != i]\n",
    "            y_k[i, j] = np.sum([A[i_prime, j] * x_k[i_prime, j] for i_prime in delta_j_not_i])\n",
    "    \n",
    "    # compute final estimates\n",
    "    x = np.full(m, np.nan)\n",
    "    for i in range(m):\n",
    "        x[i] = np.nansum([A[i, j] * y_k[i, j] for j in np.unique(np.nonzero(G))])\n",
    "    t_hat = np.sign(x)\n",
    "    return(t_hat) "
   ]
  },
  {
   "cell_type": "code",
   "execution_count": 15,
   "id": "8741b0e2",
   "metadata": {},
   "outputs": [],
   "source": [
    "# Main code that calls the function on the input data\n",
    "\n",
    "final_results = pd.DataFrame()\n",
    "\n",
    "for task_name in df_karger[\"task_name\"].unique():\n",
    "    answer_matrix = df_karger[df_karger[\"task_name\"] == task_name].pivot(index = \"question_name\", columns = \"name\", values = \"value\")\n",
    "    \n",
    "    questions = answer_matrix.index\n",
    "    workers = answer_matrix.columns\n",
    "\n",
    "    num_workers = len(workers)\n",
    "    num_questions = len(questions)\n",
    "    G = np.asmatrix(answer_matrix)\n",
    "\n",
    "    # set some basic parameters\n",
    "    max_num_iters = 1000\n",
    "    # number of tasks (in this case, this is the  number of questions)\n",
    "    m = num_questions\n",
    "    # number of workers\n",
    "    n = num_workers\n",
    "    A = G\n",
    "\n",
    "    results_for_task = run_karger(G, A, m, n, max_num_iters)\n",
    "\n",
    "    # Concat the result to the database of answers\n",
    "    final_export = np.where(results_for_task == -1, 0, 1)\n",
    "    final_task_results = pd.DataFrame({task_name: final_export}, index = questions)\n",
    "\n",
    "    final_results = pd.concat([final_results, final_task_results], axis =1)\n",
    "\n",
    "\n",
    "final_results.to_csv('karger-results.csv')\n",
    "    "
   ]
  }
 ],
 "metadata": {
  "interpreter": {
   "hash": "7812ea015bdcee6f23a998adcdd2ef97c151c0c241b7b7070987d9313e41299d"
  },
  "kernelspec": {
   "display_name": "Python 3.9.5 64-bit",
   "language": "python",
   "name": "python3"
  },
  "language_info": {
   "codemirror_mode": {
    "name": "ipython",
    "version": 3
   },
   "file_extension": ".py",
   "mimetype": "text/x-python",
   "name": "python",
   "nbconvert_exporter": "python",
   "pygments_lexer": "ipython3",
   "version": "3.9.5"
  }
 },
 "nbformat": 4,
 "nbformat_minor": 5
}
